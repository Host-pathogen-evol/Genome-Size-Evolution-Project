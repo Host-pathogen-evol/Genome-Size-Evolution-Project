{
 "metadata": {
  "name": "",
  "signature": "sha256:d448703bad172d6ece8d13e86c2bb4df39c42d423f5874ff035bbf90e76c662b"
 },
 "nbformat": 3,
 "nbformat_minor": 0,
 "worksheets": [
  {
   "cells": [
    {
     "cell_type": "code",
     "collapsed": false,
     "input": [
      "#!/usr/bin/env python\n",
      "#INITIALIZATION\n",
      "import sys\n",
      "sys.path.append('../codes/')\n",
      "from pygsl import rng as rn\n",
      "import math as mth\n",
      "import numpy as np\n",
      "##############################\n",
      "#Constants and Parameters\n",
      "SEED=987654321\n",
      "rk=rn.rng()\n",
      "rk.set(SEED)\n",
      "LH=10 #HOST LENGTH\n",
      "Kh=500 # Host Urn Size\n",
      "Kp=100 # Pathoghen Urn Size\n",
      "C1=0.2\n",
      "C2=0.8\n",
      "C3=0.5\n",
      "sohill=0.5\n",
      "nhill=5\n",
      "hlpt=[sohill,nhill]\n",
      "lnsigma=0.702693602048\n",
      "lnmean=1177.42231142\n",
      "LNPRT=[lnsigma,lnmean]\n",
      "lohill=2.0*lnmean\n",
      "mu1=0.000001\n",
      "mu2=0.000001\n",
      "mu3=0.000001\n",
      "MU=[mu1, mu2, mu3]\n",
      "B=10.0\n",
      "Lwn=LH*C3\n",
      "Prms=[B,Lwn,lnmean]\n",
      "NBo=10000.0 #LENGTH FOR REPEATS\n",
      "Neff=5\n",
      "b=1.0 #Saturation Parameter, check an tune this\n",
      "Nh=5000000\n",
      "######################################\n",
      "H={} #Hosts\n",
      "#HPk Host-Pathogen Matrices\n",
      "HC={} #HYPER-CUBES\n",
      "Gr={} #GENOMES\n",
      "Nr={} #POPS\n",
      "Tr={} #TRANSITION RATES\n",
      "###############################################################################################\n",
      "import newhost as nh\n",
      "\n",
      "h1=nh.NEWHOST(LH,Kh,rk) #Creates a new host\n",
      "print h1\n",
      "\n",
      "import hypercube as hc #Creates all the  2^L binary vertices.\n",
      "HC=hc.HYPERCUBE(LH)\n",
      "#print len(HC.keys())\n",
      "\n",
      "import prtcube as prtc #Prints the hypercube it works ok\n",
      "#prtc.PRTCUBE(HC)\n",
      "\n",
      "import hpmatrix as hpmt\n",
      "\n",
      "HP1=hpmt.HPMATRIX(Kp,Kh,C1,rk) \n",
      "HP2=hpmt.HPMATRIX(Kp,Kh,C2,rk) \n",
      "HP3=hpmt.HPMATRIX(Kp,Kh,C3,rk) \n",
      "print(\"done\")\n",
      "\n",
      "import lstdst as hdst #Calculates hamming distances\n",
      "\n",
      "d1=hdst.LSTDST(HP1[0],HP1[0])\n",
      "\n",
      "d2=hdst.LSTDST(HP1[0],HP2[0])\n",
      "\n",
      "#print d1, d2 Works fine apparently\n"
     ],
     "language": "python",
     "metadata": {},
     "outputs": [
      {
       "output_type": "stream",
       "stream": "stdout",
       "text": [
        "[37L, 109L, 143L, 154L, 233L, 249L, 310L, 312L, 378L, 383L]\n",
        "done"
       ]
      },
      {
       "output_type": "stream",
       "stream": "stdout",
       "text": [
        "\n"
       ]
      }
     ],
     "prompt_number": 1
    },
    {
     "cell_type": "code",
     "collapsed": false,
     "input": [
      "import modA as mda\n",
      "h2=mda.newhost.NEWHOST(LH,Kh,rk) #Creates a new host\n",
      "print h2\n",
      "\n",
      "#import modA.newhost as mdanuh\n",
      "#h2a=mdanuh.NEWHOST(LH,Kh,rk)\n",
      "#print h2a"
     ],
     "language": "python",
     "metadata": {},
     "outputs": [
      {
       "output_type": "stream",
       "stream": "stdout",
       "text": [
        "[32L, 111L, 181L, 245L, 286L, 291L, 302L, 377L, 384L, 432L]\n"
       ]
      }
     ],
     "prompt_number": 2
    },
    {
     "cell_type": "code",
     "collapsed": false,
     "input": [
      "#Pathogen generation I\n",
      "\n",
      "h3=mda.neweffectorlist.NEWEFFECTORLIST(Neff,Kp,rk)\n",
      "print h3"
     ],
     "language": "python",
     "metadata": {},
     "outputs": [
      {
       "output_type": "stream",
       "stream": "stdout",
       "text": [
        "[29L, 45L, 62L, 66L, 78L]\n"
       ]
      }
     ],
     "prompt_number": 3
    },
    {
     "cell_type": "code",
     "collapsed": false,
     "input": [
      "#Pathogen generation II\n",
      "INTPTHU={}\n",
      "for i in range(len(h3)):\n",
      "    INTPTHU[i]=mda.newpathogenunita.NEWPATHOGENUNITA(i,rk,LNPRT,h3)\n",
      "print INTPTHU"
     ],
     "language": "python",
     "metadata": {},
     "outputs": [
      {
       "output_type": "stream",
       "stream": "stdout",
       "text": [
        "{0: ['E29', 29L, 2121.6283283135367], 1: ['E45', 45L, 2018.4086762066847], 2: ['E62', 62L, 1615.2709119839194], 3: ['E66', 66L, 2153.2760041547576], 4: ['E78', 78L, 698.78285414909601]}\n"
       ]
      }
     ],
     "prompt_number": 4
    },
    {
     "cell_type": "code",
     "collapsed": false,
     "input": [
      "#Pathogen generation III\n",
      "print len(HP1[0]) #Kp\n",
      "print len(HP1) #Kh\n",
      "print h1\n",
      "for i in INTPTHU.keys():\n",
      "    qi=INTPTHU[i][1]-1\n",
      "    mu=mda.scoresinit.SCORESINIT(HP1[qi],rk)\n",
      "    #print mu\n",
      "    #raw_input()\n",
      "    wn=mda.calcwij.CALCWIJ(mu,h1,hlpt,INTPTHU[i][2],lohill)\n",
      "    #print wn\n",
      "    #print len(wn)\n",
      "    #raw_input()\n",
      "    #print i, mu"
     ],
     "language": "python",
     "metadata": {},
     "outputs": [
      {
       "output_type": "stream",
       "stream": "stdout",
       "text": [
        "500\n",
        "100\n",
        "[37L, 109L, 143L, 154L, 233L, 249L, 310L, 312L, 378L, 383L]\n"
       ]
      }
     ],
     "prompt_number": 5
    },
    {
     "cell_type": "code",
     "collapsed": false,
     "input": [
      "#Pathogen Generation IV\n",
      "INIPATHB={}\n",
      "INIPATHB=mda.genomeinit.GENOMEINIT(Neff,Kp,rk,LNPRT,HP2,h1,hlpt,lohill)\n",
      "print h1\n",
      "#print INIPATHB\n",
      "mda.prtgenome.PRTGENOME(INIPATHB)"
     ],
     "language": "python",
     "metadata": {},
     "outputs": [
      {
       "output_type": "stream",
       "stream": "stdout",
       "text": [
        "[37L, 109L, 143L, 154L, 233L, 249L, 310L, 312L, 378L, 383L]\n",
        "key:0\n",
        "label:E13\n",
        "gene:13\n",
        "length:876.610458\n",
        "length-wij:10.000000\n",
        "37 0.806379 0.804549\n",
        "233 0.255642 0.029651\n",
        "109 0.788091 0.796423\n",
        "143 0.137737 0.001391\n",
        "310 0.664776 0.707899\n",
        "312 0.973183 0.847934\n",
        "249 0.086814 0.000139\n",
        "154 0.869674 0.826380\n",
        "378 0.020095 0.000000\n",
        "383 0.974589 0.848145\n",
        "key:1\n",
        "label:E53\n",
        "gene:53\n",
        "length:4087.566146\n",
        "length-wij:9.000000\n",
        "37 0.026406 0.000000\n",
        "233 0.319679 0.024053\n",
        "109 0.244044 0.006717\n",
        "143 0.660500 0.199575\n",
        "310 0.163988 0.000942\n",
        "312 0.312626 0.021735\n",
        "249 0.802871 0.227844\n",
        "154 0.726671 0.215891\n",
        "378 0.354516 0.037868\n",
        "key:2\n",
        "label:E67\n",
        "gene:67\n",
        "length:482.066429\n",
        "length-wij:6.000000\n",
        "37 0.574894 0.640863\n",
        "109 0.255815 0.032508\n",
        "143 0.213543 0.013447\n",
        "310 0.037156 0.000002\n",
        "249 0.292218 0.061265\n",
        "154 0.797484 0.875007\n",
        "key:3\n",
        "label:E78\n",
        "gene:78\n",
        "length:1959.627572\n",
        "length-wij:7.000000\n",
        "37 0.883440 0.558412\n",
        "233 0.403479 0.150631\n",
        "310 0.501709 0.297940\n",
        "249 0.846890 0.551295\n",
        "154 0.934341 0.566001\n",
        "378 0.685268 0.489593\n",
        "383 0.221033 0.009809\n",
        "key:4\n",
        "label:E98\n",
        "gene:98\n",
        "length:1055.560827\n",
        "length-wij:7.000000\n",
        "233 0.626015 0.628429\n",
        "143 0.708155 0.708386\n",
        "310 0.651459 0.657562\n",
        "312 0.658109 0.664482\n",
        "249 0.612551 0.611211\n",
        "154 0.161574 0.002924\n",
        "383 0.680901 0.686179\n"
       ]
      }
     ],
     "prompt_number": 6
    },
    {
     "cell_type": "code",
     "collapsed": false,
     "input": [
      "#GET Wk sum and Wn!!!!! \n",
      "Wo=mda.getwksum.GETWKSUM(INIPATHB,C2*len(h1))\n",
      "print Wo"
     ],
     "language": "python",
     "metadata": {},
     "outputs": [
      {
       "output_type": "stream",
       "stream": "stdout",
       "text": [
        "0.345077113112\n"
       ]
      }
     ],
     "prompt_number": 7
    },
    {
     "cell_type": "code",
     "collapsed": false,
     "input": [
      "#GET LENGTH\n",
      "Lo=mda.getlength.GETLENGTH(INIPATHB)\n",
      "print Lo"
     ],
     "language": "python",
     "metadata": {},
     "outputs": [
      {
       "output_type": "stream",
       "stream": "stdout",
       "text": [
        "8461.43143272\n"
       ]
      }
     ],
     "prompt_number": 8
    },
    {
     "cell_type": "code",
     "collapsed": false,
     "input": [
      "#RATES TRATES(RK,Gn,Np,Prms,Lg): \n",
      "#RK=mutation rate array\n",
      "#Gn=Genome!\n",
      "#Np=Population\n",
      "#wij prefactor\n",
      "#Prms=more paramters [B,LhCn,Lav]\n",
      "#Lg=genome length\n",
      "#NBo=10000.0\n",
      "trn=mda.trates.TRATES(MU,INIPATHB,NBo,Prms,Lo)\n",
      "print trn"
     ],
     "language": "python",
     "metadata": {},
     "outputs": [
      {
       "output_type": "stream",
       "stream": "stdout",
       "text": [
        "{0: [2.8883151957312169e-05, 0.01, 4.9536937401469316e-08], 1: [0.0065064021682642468, 0.01, 0.00088924938500892876], 2: [0.00054965811025334613, 0.01, 1.7740010989394869e-05], 3: [0.0014091137913556969, 0.01, 9.7480611696016331e-06], 4: [0.00028869128150246141, 0.01, 3.6327384619689754e-07]}\n"
       ]
      }
     ],
     "prompt_number": 9
    },
    {
     "cell_type": "code",
     "collapsed": false,
     "input": [
      "for i in INIPATHB.keys():\n",
      "    print INIPATHB[i][1]\n",
      "print h1\n",
      "print Wo, Lo\n",
      "#raw_input()\n",
      "#TRANSFORMATIONS\n",
      "#BEFORE:(ng,nt,Gk, H,hll,hllb ):(gene number (KEYS), transformation number,genome,hillAvector, HILLBLO)\n",
      "##BEFORE:(ng,nt,Gk, H,hll,hllb ):(gene index! (KEYS), transformation number,genome,hillAvector, HILLBLO)\n",
      "ng=INIPATHB.keys()[0]\n",
      "newga=mda.genetrans.GENETRANS(ng,0,INIPATHB,h1,hlpt,lohill,rk)\n",
      "Wa=mda.getwksum.GETWKSUM(newga,C2*len(h1))\n",
      "La=mda.getlength.GETLENGTH(newga)\n",
      "print Wa, La\n",
      "mda.prtgenome.PRTGENOME(newga)\n",
      "#raw_input()\n",
      "\n",
      "newgb=mda.genetrans.GENETRANS(ng,1,INIPATHB,h1,hlpt,lohill,rk)\n",
      "Wb=mda.getwksum.GETWKSUM(newgb,C2*len(h1))\n",
      "Lb=mda.getlength.GETLENGTH(newgb)\n",
      "print Wb, Lb\n",
      "mda.prtgenome.PRTGENOME(newgb)\n",
      "#raw_input()\n",
      "\n",
      "newgc=mda.genetrans.GENETRANS(ng,2,INIPATHB,h1,hlpt,lohill,rk)\n",
      "Wc=mda.getwksum.GETWKSUM(newgc,C2*len(h1))\n",
      "Lc=mda.getlength.GETLENGTH(newgc)\n",
      "print Wc, Lc\n",
      "mda.prtgenome.PRTGENOME(newgc)\n",
      "#raw_input()\n",
      "\n",
      "\n",
      "ng=INIPATHB.keys()[len(INIPATHB.keys())-1]\n",
      "print ng\n",
      "#raw_input()\n",
      "newgd=mda.genetrans.GENETRANS(ng,1,INIPATHB,h1,hlpt,lohill,rk)\n",
      "Wd=mda.getwksum.GETWKSUM(newgd,C2*len(h1))\n",
      "Ld=mda.getlength.GETLENGTH(newgd)\n",
      "print Wd, Ld\n",
      "mda.prtgenome.PRTGENOME(newgd)\n",
      "#raw_input()"
     ],
     "language": "python",
     "metadata": {},
     "outputs": [
      {
       "output_type": "stream",
       "stream": "stdout",
       "text": [
        "13\n",
        "53\n",
        "67\n",
        "78\n",
        "98\n",
        "[37L, 109L, 143L, 154L, 233L, 249L, 310L, 312L, 378L, 383L]\n",
        "0.345077113112 8461.43143272\n",
        "0.345084365476 8462.42648343\n",
        "key:0\n",
        "label:E13\n",
        "gene:13\n",
        "length:877.605509\n",
        "length-wij:10.000000\n",
        "37 0.806069 0.804197\n",
        "233 0.256584 0.030174\n",
        "109 0.789473 0.796850\n",
        "143 0.137977 0.001403\n",
        "310 0.665087 0.708025\n",
        "312 0.974192 0.847851\n",
        "249 0.086359 0.000135\n",
        "154 0.869794 0.826186\n",
        "378 0.019384 0.000000\n",
        "383 0.975062 0.847981\n",
        "key:1\n",
        "label:E53\n",
        "gene:53\n",
        "length:4087.566146\n",
        "length-wij:9.000000\n",
        "37 0.026406 0.000000\n",
        "233 0.319679 0.024053\n",
        "109 0.244044 0.006717\n",
        "143 0.660500 0.199575\n",
        "310 0.163988 0.000942\n",
        "312 0.312626 0.021735\n",
        "249 0.802871 0.227844\n",
        "154 0.726671 0.215891\n",
        "378 0.354516 0.037868\n",
        "key:2\n",
        "label:E67\n",
        "gene:67\n",
        "length:482.066429\n",
        "length-wij:6.000000\n",
        "37 0.574894 0.640863\n",
        "109 0.255815 0.032508\n",
        "143 0.213543 0.013447\n",
        "310 0.037156 0.000002\n",
        "249 0.292218 0.061265\n",
        "154 0.797484 0.875007\n",
        "key:3\n",
        "label:E78\n",
        "gene:78\n",
        "length:1959.627572\n",
        "length-wij:7.000000\n",
        "37 0.883440 0.558412\n",
        "233 0.403479 0.150631\n",
        "310 0.501709 0.297940\n",
        "249 0.846890 0.551295\n",
        "154 0.934341 0.566001\n",
        "378 0.685268 0.489593\n",
        "383 0.221033 0.009809\n",
        "key:4\n",
        "label:E98\n",
        "gene:98\n",
        "length:1055.560827\n",
        "length-wij:7.000000\n",
        "233 0.626015 0.628429\n",
        "143 0.708155 0.708386\n",
        "310 0.651459 0.657562\n",
        "312 0.658109 0.664482\n",
        "249 0.612551 0.611211\n",
        "154 0.161574 0.002924\n",
        "383 0.680901 0.686179\n",
        "0.388866579449 9338.04189095\n",
        "key:0\n",
        "label:E13\n",
        "gene:13\n",
        "length:876.610458\n",
        "length-wij:10.000000\n",
        "37 0.806379 0.804549\n",
        "233 0.255642 0.029651\n",
        "109 0.788091 0.796423\n",
        "143 0.137737 0.001391\n",
        "310 0.664776 0.707899\n",
        "312 0.973183 0.847934\n",
        "249 0.086814 0.000139\n",
        "154 0.869674 0.826380\n",
        "378 0.020095 0.000000\n",
        "383 0.974589 0.848145\n",
        "key:1\n",
        "label:E13\n",
        "gene:13\n",
        "length:876.610458\n",
        "length-wij:10.000000\n",
        "37 0.806379 0.804549\n",
        "233 0.255642 0.029651\n",
        "109 0.788091 0.796423\n",
        "143 0.137737 0.001391\n",
        "310 0.664776 0.707899\n",
        "312 0.973183 0.847934\n",
        "249 0.086814 0.000139\n",
        "154 0.869674 0.826380\n",
        "378 0.020095 0.000000\n",
        "383 0.974589 0.848145\n",
        "key:2\n",
        "label:E53\n",
        "gene:53\n",
        "length:4087.566146\n",
        "length-wij:9.000000\n",
        "37 0.026406 0.000000\n",
        "233 0.319679 0.024053\n",
        "109 0.244044 0.006717\n",
        "143 0.660500 0.199575\n",
        "310 0.163988 0.000942\n",
        "312 0.312626 0.021735\n",
        "249 0.802871 0.227844\n",
        "154 0.726671 0.215891\n",
        "378 0.354516 0.037868\n",
        "key:3\n",
        "label:E67\n",
        "gene:67\n",
        "length:482.066429\n",
        "length-wij:6.000000\n",
        "37 0.574894 0.640863\n",
        "109 0.255815 0.032508\n",
        "143 0.213543 0.013447\n",
        "310 0.037156 0.000002\n",
        "249 0.292218 0.061265\n",
        "154 0.797484 0.875007\n",
        "key:4\n",
        "label:E78\n",
        "gene:78\n",
        "length:1959.627572\n",
        "length-wij:7.000000\n",
        "37 0.883440 0.558412\n",
        "233 0.403479 0.150631\n",
        "310 0.501709 0.297940\n",
        "249 0.846890 0.551295\n",
        "154 0.934341 0.566001\n",
        "378 0.685268 0.489593\n",
        "383 0.221033 0.009809\n",
        "key:5\n",
        "label:E98\n",
        "gene:98\n",
        "length:1055.560827\n",
        "length-wij:7.000000\n",
        "233 0.626015 0.628429\n",
        "143 0.708155 0.708386\n",
        "310 0.651459 0.657562\n",
        "312 0.658109 0.664482\n",
        "249 0.612551 0.611211\n",
        "154 0.161574 0.002924\n",
        "383 0.680901 0.686179\n",
        "0.223514330884 8136.42682847\n",
        "key:0\n",
        "label:SLE13\n",
        "gene:13\n",
        "length:551.605854\n",
        "length-wij:10.000000\n",
        "37 0.000001 0.000000\n",
        "233 0.000001 0.000000\n",
        "109 0.000001 0.000000\n",
        "143 0.000001 0.000000\n",
        "310 0.000001 0.000000\n",
        "312 0.000001 0.000000\n",
        "249 0.000001 0.000000\n",
        "154 0.000001 0.000000\n",
        "378 0.000001 0.000000\n",
        "383 0.000001 0.000000\n",
        "key:1\n",
        "label:E53\n",
        "gene:53\n",
        "length:4087.566146\n",
        "length-wij:9.000000\n",
        "37 0.026406 0.000000\n",
        "233 0.319679 0.024053\n",
        "109 0.244044 0.006717\n",
        "143 0.660500 0.199575\n",
        "310 0.163988 0.000942\n",
        "312 0.312626 0.021735\n",
        "249 0.802871 0.227844\n",
        "154 0.726671 0.215891\n",
        "378 0.354516 0.037868\n",
        "key:2\n",
        "label:E67\n",
        "gene:67\n",
        "length:482.066429\n",
        "length-wij:6.000000\n",
        "37 0.574894 0.640863\n",
        "109 0.255815 0.032508\n",
        "143 0.213543 0.013447\n",
        "310 0.037156 0.000002\n",
        "249 0.292218 0.061265\n",
        "154 0.797484 0.875007\n",
        "key:3\n",
        "label:E78\n",
        "gene:78\n",
        "length:1959.627572\n",
        "length-wij:7.000000\n",
        "37 0.883440 0.558412\n",
        "233 0.403479 0.150631\n",
        "310 0.501709 0.297940\n",
        "249 0.846890 0.551295\n",
        "154 0.934341 0.566001\n",
        "378 0.685268 0.489593\n",
        "383 0.221033 0.009809\n",
        "key:4\n",
        "label:E98\n",
        "gene:98\n",
        "length:1055.560827\n",
        "length-wij:7.000000\n",
        "233 0.626015 0.628429\n",
        "143 0.708155 0.708386\n",
        "310 0.651459 0.657562\n",
        "312 0.658109 0.664482\n",
        "249 0.612551 0.611211\n",
        "154 0.161574 0.002924\n",
        "383 0.680901 0.686179\n",
        "4\n",
        "0.370047063094 9516.99225934\n",
        "key:0\n",
        "label:E13\n",
        "gene:13\n",
        "length:876.610458\n",
        "length-wij:10.000000\n",
        "37 0.806379 0.804549\n",
        "233 0.255642 0.029651\n",
        "109 0.788091 0.796423\n",
        "143 0.137737 0.001391\n",
        "310 0.664776 0.707899\n",
        "312 0.973183 0.847934\n",
        "249 0.086814 0.000139\n",
        "154 0.869674 0.826380\n",
        "378 0.020095 0.000000\n",
        "383 0.974589 0.848145\n",
        "key:1\n",
        "label:E53\n",
        "gene:53\n",
        "length:4087.566146\n",
        "length-wij:9.000000\n",
        "37 0.026406 0.000000\n",
        "233 0.319679 0.024053\n",
        "109 0.244044 0.006717\n",
        "143 0.660500 0.199575\n",
        "310 0.163988 0.000942\n",
        "312 0.312626 0.021735\n",
        "249 0.802871 0.227844\n",
        "154 0.726671 0.215891\n",
        "378 0.354516 0.037868\n",
        "key:2\n",
        "label:E67\n",
        "gene:67\n",
        "length:482.066429\n",
        "length-wij:6.000000\n",
        "37 0.574894 0.640863\n",
        "109 0.255815 0.032508\n",
        "143 0.213543 0.013447\n",
        "310 0.037156 0.000002\n",
        "249 0.292218 0.061265\n",
        "154 0.797484 0.875007\n",
        "key:3\n",
        "label:E78\n",
        "gene:78\n",
        "length:1959.627572\n",
        "length-wij:7.000000\n",
        "37 0.883440 0.558412\n",
        "233 0.403479 0.150631\n",
        "310 0.501709 0.297940\n",
        "249 0.846890 0.551295\n",
        "154 0.934341 0.566001\n",
        "378 0.685268 0.489593\n",
        "383 0.221033 0.009809\n",
        "key:4\n",
        "label:E98\n",
        "gene:98\n",
        "length:1055.560827\n",
        "length-wij:7.000000\n",
        "233 0.626015 0.628429\n",
        "143 0.708155 0.708386\n",
        "310 0.651459 0.657562\n",
        "312 0.658109 0.664482\n",
        "249 0.612551 0.611211\n",
        "154 0.161574 0.002924\n",
        "383 0.680901 0.686179\n",
        "key:5\n",
        "label:E98\n",
        "gene:98\n",
        "length:1055.560827\n",
        "length-wij:7.000000\n",
        "233 0.626015 0.628429\n",
        "143 0.708155 0.708386\n",
        "310 0.651459 0.657562\n",
        "312 0.658109 0.664482\n",
        "249 0.612551 0.611211\n",
        "154 0.161574 0.002924\n",
        "383 0.680901 0.686179\n"
       ]
      }
     ],
     "prompt_number": 10
    },
    {
     "cell_type": "code",
     "collapsed": false,
     "input": [
      "#JUMP TEST1\n",
      "print h1\n",
      "hj=mda.newhost.NEWHOST(LH,Kh,rk) #\n",
      "print hj\n",
      "Gj=mda.jumpchange.JUMPCHANGE(INIPATHB,hj,hlpt,lohill)\n",
      "mda.prtgenome.PRTGENOME(Gj)\n"
     ],
     "language": "python",
     "metadata": {},
     "outputs": [
      {
       "output_type": "stream",
       "stream": "stdout",
       "text": [
        "[37L, 109L, 143L, 154L, 233L, 249L, 310L, 312L, 378L, 383L]\n",
        "[87L, 95L, 157L, 202L, 233L, 235L, 382L, 453L, 469L, 474L]\n",
        "key:0\n",
        "label:E13\n",
        "gene:13\n",
        "length:876.610458\n",
        "length-wij:9.000000\n",
        "453 0.357680 0.138576\n",
        "233 0.255642 0.029651\n",
        "202 0.588481 0.608749\n",
        "469 0.462782 0.355265\n",
        "87 0.526695 0.495928\n",
        "474 0.888203 0.831296\n",
        "157 0.333507 0.102436\n",
        "382 0.092584 0.000191\n",
        "95 0.581703 0.597808\n",
        "key:1\n",
        "label:E53\n",
        "gene:53\n",
        "length:4087.566146\n",
        "length-wij:9.000000\n",
        "453 0.751803 0.220497\n",
        "233 0.319679 0.024053\n",
        "202 0.295344 0.016717\n",
        "235 0.125333 0.000246\n",
        "469 0.883357 0.235505\n",
        "87 0.828051 0.230671\n",
        "474 0.875023 0.234879\n",
        "157 0.132721 0.000328\n",
        "95 0.410059 0.067432\n",
        "key:2\n",
        "label:E67\n",
        "gene:67\n",
        "length:482.066429\n",
        "length-wij:7.000000\n",
        "453 0.887911 0.908344\n",
        "202 0.187946 0.007149\n",
        "469 0.507497 0.497736\n",
        "87 0.071393 0.000057\n",
        "157 0.716970 0.823882\n",
        "382 0.874027 0.904370\n",
        "95 0.543914 0.579420\n",
        "key:3\n",
        "label:E78\n",
        "gene:78\n",
        "length:1959.627572\n",
        "length-wij:9.000000\n",
        "453 0.199510 0.005917\n",
        "233 0.403479 0.150631\n",
        "202 0.516774 0.319736\n",
        "235 0.163552 0.002204\n",
        "469 0.243552 0.015770\n",
        "87 0.257310 0.020583\n",
        "474 0.279005 0.030325\n",
        "382 0.840648 0.549908\n",
        "95 0.919138 0.563974\n",
        "key:4\n",
        "label:E98\n",
        "gene:98\n",
        "length:1055.560827\n",
        "length-wij:10.000000\n",
        "453 0.338294 0.103400\n",
        "233 0.626015 0.628429\n",
        "202 0.389049 0.184791\n",
        "235 0.355528 0.128077\n",
        "469 0.590389 0.580000\n",
        "87 0.818165 0.767285\n",
        "474 0.026744 0.000000\n",
        "157 0.473378 0.359748\n",
        "382 0.086392 0.000128\n",
        "95 0.683988 0.688889\n"
       ]
      }
     ],
     "prompt_number": 11
    },
    {
     "cell_type": "code",
     "collapsed": false,
     "input": [
      "#JUMP TEST\n",
      "print h1\n",
      "h1b=h1\n",
      "h1b[0]=36\n",
      "print h1b\n",
      "mda.prtgenome.PRTGENOME(INIPATHB)\n",
      "\n",
      "#Gj=mda.jumpchange.JUMPCHANGE(INIPATHB,hj,hlpt,lohill)\n",
      "#mda.prtgenome.PRTGENOME(Gj)\n"
     ],
     "language": "python",
     "metadata": {},
     "outputs": [
      {
       "output_type": "stream",
       "stream": "stdout",
       "text": [
        "[37L, 109L, 143L, 154L, 233L, 249L, 310L, 312L, 378L, 383L]\n",
        "[36, 109L, 143L, 154L, 233L, 249L, 310L, 312L, 378L, 383L]\n",
        "key:0\n",
        "label:E13\n",
        "gene:13\n",
        "length:876.610458\n",
        "length-wij:10.000000\n",
        "37 0.806379 0.804549\n",
        "233 0.255642 0.029651\n",
        "109 0.788091 0.796423\n",
        "143 0.137737 0.001391\n",
        "310 0.664776 0.707899\n",
        "312 0.973183 0.847934\n",
        "249 0.086814 0.000139\n",
        "154 0.869674 0.826380\n",
        "378 0.020095 0.000000\n",
        "383 0.974589 0.848145\n",
        "key:1\n",
        "label:E53\n",
        "gene:53\n",
        "length:4087.566146\n",
        "length-wij:9.000000\n",
        "37 0.026406 0.000000\n",
        "233 0.319679 0.024053\n",
        "109 0.244044 0.006717\n",
        "143 0.660500 0.199575\n",
        "310 0.163988 0.000942\n",
        "312 0.312626 0.021735\n",
        "249 0.802871 0.227844\n",
        "154 0.726671 0.215891\n",
        "378 0.354516 0.037868\n",
        "key:2\n",
        "label:E67\n",
        "gene:67\n",
        "length:482.066429\n",
        "length-wij:6.000000\n",
        "37 0.574894 0.640863\n",
        "109 0.255815 0.032508\n",
        "143 0.213543 0.013447\n",
        "310 0.037156 0.000002\n",
        "249 0.292218 0.061265\n",
        "154 0.797484 0.875007\n",
        "key:3\n",
        "label:E78\n",
        "gene:78\n",
        "length:1959.627572\n",
        "length-wij:7.000000\n",
        "37 0.883440 0.558412\n",
        "233 0.403479 0.150631\n",
        "310 0.501709 0.297940\n",
        "249 0.846890 0.551295\n",
        "154 0.934341 0.566001\n",
        "378 0.685268 0.489593\n",
        "383 0.221033 0.009809\n",
        "key:4\n",
        "label:E98\n",
        "gene:98\n",
        "length:1055.560827\n",
        "length-wij:7.000000\n",
        "233 0.626015 0.628429\n",
        "143 0.708155 0.708386\n",
        "310 0.651459 0.657562\n",
        "312 0.658109 0.664482\n",
        "249 0.612551 0.611211\n",
        "154 0.161574 0.002924\n",
        "383 0.680901 0.686179\n"
       ]
      }
     ],
     "prompt_number": 12
    },
    {
     "cell_type": "code",
     "collapsed": false,
     "input": [
      "#INITIAL STATE\n",
      "Fo=0.0\n",
      "No=1\n",
      "#Pathogen Generation IV\n",
      "po={}\n",
      "Natt=0\n",
      "#print INIPATHB\n",
      "#mda.prtgenome.PRTGENOME(INIPATHB)\n",
      "while Fo<1.0:\n",
      "    ho=mda.newhost.NEWHOST(LH,Kh,rk) #Creates a new host\n",
      "    po=mda.genomeinit.GENOMEINIT(Neff,Kp,rk,LNPRT,HP3,h1,hlpt,lohill)\n",
      "    Wo=mda.getwksum.GETWKSUM(po,C3*len(ho))\n",
      "    Fo=mth.exp(Wo)-1.0\n",
      "    Natt+=1\n",
      "\n",
      "print Natt\n",
      "print ho\n",
      "print Fo\n",
      "mda.prtgenome.PRTGENOME(po)\n"
     ],
     "language": "python",
     "metadata": {},
     "outputs": [
      {
       "output_type": "stream",
       "stream": "stdout",
       "text": [
        "446\n",
        "[11L, 45L, 62L, 113L, 131L, 221L, 326L, 350L, 451L, 492L]\n",
        "1.21106951537\n",
        "key:0\n",
        "label:E4\n",
        "gene:4\n",
        "length:957.319576\n",
        "length-wij:7.000000\n",
        "36 0.922028 0.819730\n",
        "310 0.392805 0.197659\n",
        "312 0.664259 0.691162\n",
        "249 0.796622 0.781999\n",
        "154 0.830004 0.795095\n",
        "378 0.835186 0.796890\n",
        "383 0.361498 0.141567\n",
        "key:1\n",
        "label:E20\n",
        "gene:20\n",
        "length:717.623694\n",
        "length-wij:8.000000\n",
        "36 0.838801 0.850980\n",
        "233 0.606698 0.662974\n",
        "310 0.103642 0.000350\n",
        "312 0.680745 0.753874\n",
        "249 0.039628 0.000003\n",
        "154 0.864957 0.859542\n",
        "378 0.669326 0.742336\n",
        "383 0.164724 0.003537\n",
        "key:2\n",
        "label:E54\n",
        "gene:54\n",
        "length:803.136183\n",
        "length-wij:5.000000\n",
        "233 0.976834 0.865395\n",
        "154 0.733871 0.781125\n",
        "378 0.754624 0.794359\n",
        "109 0.760234 0.797643\n",
        "143 0.884951 0.847031\n",
        "key:3\n",
        "label:E57\n",
        "gene:57\n",
        "length:1238.399342\n",
        "length-wij:9.000000\n",
        "36 0.676496 0.641798\n",
        "109 0.565183 0.508050\n",
        "143 0.952510 0.753327\n",
        "310 0.547593 0.479206\n",
        "312 0.112485 0.000451\n",
        "249 0.967666 0.755525\n",
        "154 0.761195 0.697998\n",
        "378 0.756635 0.695687\n",
        "383 0.731627 0.681725\n",
        "key:4\n",
        "label:E87\n",
        "gene:87\n",
        "length:1246.507564\n",
        "length-wij:8.000000\n",
        "36 0.416897 0.224369\n",
        "233 0.392160 0.178778\n",
        "109 0.193330 0.006693\n",
        "143 0.984458 0.755593\n",
        "310 0.461755 0.313876\n",
        "249 0.068127 0.000037\n",
        "378 0.408274 0.208035\n",
        "383 0.961471 0.752508\n"
       ]
      }
     ],
     "prompt_number": 13
    },
    {
     "cell_type": "code",
     "collapsed": false,
     "input": [
      "#MonteCarlo numbers\n",
      "No=10\n",
      "Trs={}\n",
      "Trs[0]=mda.trates.TRATES(MU,po,No,Prms,Lo)\n",
      "alpha=mda.gspsum.GSPSUM(Trs)\n",
      "print alpha\n",
      "tau=mda.gsptime.GSPTIME(alpha,rk)\n",
      "print tau\n",
      "nxtr=mda.gspreactselect.GSPREACTSELECT(alpha,rk,Trs)\n",
      "print nxtr"
     ],
     "language": "python",
     "metadata": {},
     "outputs": [
      {
       "output_type": "stream",
       "stream": "stdout",
       "text": [
        "5.16533721543e-05\n",
        "5516.47018573\n",
        "[0, 1, 1.0]\n"
       ]
      }
     ],
     "prompt_number": 14
    },
    {
     "cell_type": "code",
     "collapsed": false,
     "input": [
      "#PopDyn\n",
      "print ho\n",
      "print Fo\n",
      "#mda.prtgenome.PRTGENOME(po)\n",
      "Nr={}\n",
      "Gr={}\n",
      "Fr={}\n",
      "Tr={}\n",
      "#####\n",
      "sna=\"jmp\"+str(0)+\"gen\"+str(0)\n",
      "print sna\n",
      "Nr[sna]=1.0\n",
      "Fr[sna]=Fo\n",
      "\n",
      "Nt=[]\n",
      "Nt.append(Nr[sna])\n",
      "for tngen in range(300):\n",
      "    Nrx={}\n",
      "    Nrx=Nr\n",
      "    Nr=mda.popupdate.POPUPDATE(Fr,Nrx,Nh,b)\n",
      "    Nt.append(Nr[sna])\n",
      "\n"
     ],
     "language": "python",
     "metadata": {},
     "outputs": [
      {
       "output_type": "stream",
       "stream": "stdout",
       "text": [
        "[11L, 45L, 62L, 113L, 131L, 221L, 326L, 350L, 451L, 492L]\n",
        "1.21106951537\n",
        "jmp0gen0\n"
       ]
      }
     ],
     "prompt_number": 15
    },
    {
     "cell_type": "code",
     "collapsed": false,
     "input": [
      "import math as mth\n",
      "import numpy as np\n",
      "import matplotlib.pyplot as plt\n",
      "\n",
      "fig = plt.figure(figsize=(10, 8))  \n",
      "plt.plot(Nt)\n"
     ],
     "language": "python",
     "metadata": {},
     "outputs": [
      {
       "metadata": {},
       "output_type": "pyout",
       "prompt_number": 16,
       "text": [
        "[<matplotlib.lines.Line2D at 0x7f4804d3bb10>]"
       ]
      },
      {
       "metadata": {},
       "output_type": "display_data",
       "png": "[encoded data removed]",
       "text": [
        "<matplotlib.figure.Figure at 0x7f480634ff90>"
       ]
      }
     ],
     "prompt_number": 16
    },
    {
     "cell_type": "code",
     "collapsed": false,
     "input": [
      "#Genome Aggregations.\n",
      "print ho\n",
      "print Fo\n",
      "#mda.prtgenome.PRTGENOME(po)\n",
      "Nr={}\n",
      "Gr={}\n",
      "Fr={}\n",
      "Tr={}\n",
      "Lr={}\n",
      "Nrloc={}\n",
      "jmp=0\n",
      "cnt=0\n",
      "#####\n",
      "sna=\"jmp\"+str(jmp)+\"gen\"+str(cnt)\n",
      "cnt=1\n",
      "print sna\n",
      "Nr[sna]=1.0\n",
      "Nrloc[sna]=[]\n",
      "Nrloc[sna].append(Nr[sna])\n",
      "Fr[sna]=Fo\n",
      "Gr[sna]=po\n",
      "Lo=mda.getlength.GETLENGTH(po)\n",
      "Tr[sna]=mda.trates.TRATES(MU,po,Nr[sna],Prms,Lo)\n",
      "Lr[sna]=Lo\n",
      "Fmax=max(Ft.values())\n",
      "#Nt=[]\n",
      "#Nt.append(Nr[sna])\n",
      "for tngen in range(100):\n",
      "    x1=mda.totpop.TOTPOP(Nr)\n",
      "    x2=mda.gspsum.GSPSUM(Tr)\n",
      "    x3=mda.gsptime.GSPTIME(x2,rk)\n",
      "     \n",
      "    Nrx={}\n",
      "    Nrx=Nr\n",
      "    Nr=mda.popupdate.POPUPDATE(Fr,Nrx,Nh,b)\n",
      "    x1=mda.totpop.TOTPOP(Nr)\n",
      "    \n",
      "    if x3<x1:\n",
      "        nureact=mda.gspreactselect.GSPREACTSELECT(x2,rk,Tr)\n",
      "        #print nureact\n",
      "        ng1=nureact[0]\n",
      "        ng2=nureact[1]\n",
      "        ng3=nureact[2]\n",
      "        print ng1, ng2, ng3\n",
      "        newgk=mda.genetrans.GENETRANS(ng2,int(ng3),Gr[ng1],ho,hlpt,lohill,rk)\n",
      "        Wk=mda.getwksum.GETWKSUM(newgk,C3*len(h1))\n",
      "        Fk=mth.exp(Wk)-1.0\n",
      "        if Fk >= Fmax:\n",
      "            sna=\"jmp\"+str(jmp)+\"gen\"+str(cnt)\n",
      "            cnt+=1\n",
      "        #Lb=mda.getlength.GETLENGTH(newgb)\n",
      "        \n",
      "        \n",
      "        raw_input()\n",
      "        \n",
      "    for j in Nr.keys():\n",
      "        Nrloc[j].append(Nr[j])\n",
      "        Tr[j]=mda.trates.TRATES(MU,Gr[j],Nr[j],Prms,Lr[j])\n",
      "    \n",
      "    print tngen,x1, x2, x3"
     ],
     "language": "python",
     "metadata": {},
     "outputs": [
      {
       "output_type": "stream",
       "stream": "stdout",
       "text": [
        "[11L, 45L, 62L, 113L, 131L, 221L, 326L, 350L, 451L, 492L]\n",
        "1.21106951537\n",
        "jmp0gen0\n",
        "0 1.21106922203 5.28188461759e-06 337258.510909\n",
        "1 1.46668858557 6.3967278947e-06 67524.049195\n",
        "2 1.77626120351 7.74687987895e-06 5926.11844045\n",
        "3 2.1511748694 9.38200672766e-06 106623.64569\n",
        "4 2.60522094913 1.13622574524e-05 51822.0445312\n",
        "5 3.15510168136 1.37604764566e-05 46244.7775436\n",
        "6 3.82104454412 1.66648830377e-05 21468.7576854\n",
        "7 4.62754628142 2.01823164007e-05 799.831577122\n",
        "8 5.60427395081 2.4442165521e-05 10265.24872\n",
        "9 6.78715612451 2.96011283736e-05 74489.1386241\n",
        "10 8.21970436573 3.58489755313e-05 131.638793734\n",
        "11 9.9546135638 4.34155300505e-05 43630.9001113\n",
        "12 12.0556999564 5.25791202567e-05 22510.5550407\n",
        "13 14.6002480701 6.36768161539e-05 20270.6754551\n",
        "14 17.6818528247 7.71168256943e-05 34.1243673721\n",
        "15 21.4138612202 9.33935064454e-05 5735.48264605\n",
        "16 25.9335400198 0.000113105544182 17202.895831\n",
        "17 31.4071224609 0.00013697796611 19668.1172608\n",
        "18 38.0359192296 0.000165888797009 29696.6327592\n",
        "19 46.0637178909 0.000200901336695 6556.76790997\n",
        "20 55.7857420856 0.000243303242957 4252.17224943\n",
        "21 67.5594987628 0.000294653853003 4871.28961427\n",
        "22 81.8179105694 0.000356841477288 6141.79210574\n",
        "23 99.0852136872 0.00043215276328 1545.41512148\n",
        "24 119.996201834 0.000523356666005 1861.18990966\n",
        "25 145.319518326 0.000633806092636 3371.77051524\n",
        "26 175.985844212 0.000767560928483 1532.44651885\n",
        "jmp0gen0 3 1.0\n"
       ]
      },
      {
       "name": "stdout",
       "output_type": "stream",
       "stream": "stdout",
       "text": [
        "\n"
       ]
      },
      {
       "output_type": "stream",
       "stream": "stdout",
       "text": [
        "27 213.122006477 0.000929536923456 40.3245911542\n",
        "28 258.09224209 0.00112568584768 326.581664449\n",
        "29 312.548108064 0.00136321344341 591.738928579\n",
        "30 378.488832835 0.00165084304424 422.009864229\n",
        "jmp0gen0 4 1.0\n"
       ]
      },
      {
       "name": "stdout",
       "output_type": "stream",
       "stream": "stdout",
       "text": [
        "\n"
       ]
      },
      {
       "output_type": "stream",
       "stream": "stdout",
       "text": [
        "31 458.334269443 0.00199913434408 437.25599601\n",
        "jmp0gen0 1 1.0\n"
       ]
      },
      {
       "name": "stdout",
       "output_type": "stream",
       "stream": "stdout",
       "text": [
        "\n"
       ]
      },
      {
       "output_type": "stream",
       "stream": "stdout",
       "text": [
        "32 555.013046836 0.00242086872749 215.481484081\n",
        "jmp0gen0 4 0.0\n"
       ]
      },
      {
       "name": "stdout",
       "output_type": "stream",
       "stream": "stdout",
       "text": [
        "\n"
       ]
      },
      {
       "output_type": "stream",
       "stream": "stdout",
       "text": [
        "33 672.069034156 0.00293151487465 1.30067510144\n",
        "jmp0gen0 1 1.0\n"
       ]
      },
      {
       "name": "stdout",
       "output_type": "stream",
       "stream": "stdout",
       "text": [
        "\n"
       ]
      },
      {
       "output_type": "stream",
       "stream": "stdout",
       "text": [
        "34 813.789847147 0.00354979109347 107.238552712\n",
        "jmp0gen0 0 1.0\n"
       ]
      },
      {
       "name": "stdout",
       "output_type": "stream",
       "stream": "stdout",
       "text": [
        "\n"
       ]
      },
      {
       "output_type": "stream",
       "stream": "stdout",
       "text": [
        "35 985.361849927 0.0042983440756 371.144182679\n",
        "jmp0gen0 1 1.0\n"
       ]
      },
      {
       "name": "stdout",
       "output_type": "stream",
       "stream": "stdout",
       "text": [
        "\n"
       ]
      },
      {
       "output_type": "stream",
       "stream": "stdout",
       "text": [
        "36 1193.05695314 0.0052045675979 179.686284869\n",
        "jmp0gen0 0 1.0\n"
       ]
      },
      {
       "name": "stdout",
       "output_type": "stream",
       "stream": "stdout",
       "text": [
        "\n"
       ]
      },
      {
       "output_type": "stream",
       "stream": "stdout",
       "text": [
        "37 1444.45749397 0.00630158916868 381.172900101\n",
        "jmp0gen0 1 1.0\n"
       ]
      },
      {
       "name": "stdout",
       "output_type": "stream",
       "stream": "stdout",
       "text": [
        "\n"
       ]
      },
      {
       "output_type": "stream",
       "stream": "stdout",
       "text": [
        "38 1748.72661426 0.00762945781815 129.447358296\n",
        "jmp0gen0 3 1.0\n"
       ]
      },
      {
       "name": "stdout",
       "output_type": "stream",
       "stream": "stdout",
       "text": [
        "\n"
       ]
      },
      {
       "output_type": "stream",
       "stream": "stdout",
       "text": [
        "39 2116.93283269 0.00923657220422 164.546040398\n",
        "jmp0gen0 3 1.0\n"
       ]
      },
      {
       "name": "stdout",
       "output_type": "stream",
       "stream": "stdout",
       "text": [
        "\n"
       ]
      },
      {
       "output_type": "stream",
       "stream": "stdout",
       "text": [
        "40 2562.43892775 0.0111813949655 20.0495365564\n",
        "jmp0gen0 1 1.0\n"
       ]
      },
      {
       "name": "stdout",
       "output_type": "stream",
       "stream": "stdout",
       "text": [
        "\n"
       ]
      },
      {
       "output_type": "stream",
       "stream": "stdout",
       "text": [
        "41 3101.36678126 0.013534506756 384.352851926\n",
        "jmp0gen0 0 1.0\n"
       ]
      },
      {
       "name": "stdout",
       "output_type": "stream",
       "stream": "stdout",
       "text": [
        "\n"
       ]
      },
      {
       "output_type": "stream",
       "stream": "stdout",
       "text": [
        "42 3753.15141937 0.0163810614955 24.8575680697\n",
        "jmp0gen0 0 1.0\n"
       ]
      },
      {
       "name": "stdout",
       "output_type": "stream",
       "stream": "stdout",
       "text": [
        "\n"
       ]
      },
      {
       "output_type": "stream",
       "stream": "stdout",
       "text": [
        "43 4541.19902343 0.0198237127495 109.779052677\n",
        "jmp0gen0 1 1.0\n"
       ]
      },
      {
       "name": "stdout",
       "output_type": "stream",
       "stream": "stdout",
       "text": [
        "\n"
       ]
      },
      {
       "output_type": "stream",
       "stream": "stdout",
       "text": [
        "44 5493.66499018 0.0239860892673 27.2382903646\n",
        "jmp0gen0 3 1.0\n"
       ]
      },
      {
       "name": "stdout",
       "output_type": "stream",
       "stream": "stdout",
       "text": [
        "\n"
       ]
      },
      {
       "output_type": "stream",
       "stream": "stdout",
       "text": [
        "45 6644.36892066 0.0290169046058 7.15566079062\n",
        "jmp0gen0 0 1.0\n"
       ]
      },
      {
       "name": "stdout",
       "output_type": "stream",
       "stream": "stdout",
       "text": [
        "\n"
       ]
      },
      {
       "output_type": "stream",
       "stream": "stdout",
       "text": [
        "46 8033.86328229 0.0350947899956 29.7682204622\n",
        "jmp0gen0 1 1.0\n"
       ]
      },
      {
       "name": "stdout",
       "output_type": "stream",
       "stream": "stdout",
       "text": [
        "\n"
       ]
      },
      {
       "output_type": "stream",
       "stream": "stdout",
       "text": [
        "47 9710.67078761 0.0424339388906 49.0067895752\n",
        "jmp0gen0 4 1.0\n"
       ]
      },
      {
       "name": "stdout",
       "output_type": "stream",
       "stream": "stdout",
       "text": [
        "\n"
       ]
      },
      {
       "output_type": "stream",
       "stream": "stdout",
       "text": [
        "48 11732.7013533 0.0512906426596 59.5606942942\n",
        "jmp0gen0 4 1.0\n"
       ]
      },
      {
       "name": "stdout",
       "output_type": "stream",
       "stream": "stdout",
       "text": [
        "\n"
       ]
      },
      {
       "output_type": "stream",
       "stream": "stdout",
       "text": [
        "49 14168.8515682 0.0619707748009 41.513219451\n",
        "jmp0gen0 0 1.0\n"
       ]
      },
      {
       "name": "stdout",
       "output_type": "stream",
       "stream": "stdout",
       "text": [
        "\n"
       ]
      },
      {
       "output_type": "stream",
       "stream": "stdout",
       "text": [
        "50 17100.7761708 0.074838239147 2.96494383134\n",
        "jmp0gen0 4 0.0\n"
       ]
      },
      {
       "name": "stdout",
       "output_type": "stream",
       "stream": "stdout",
       "text": [
        "\n"
       ]
      },
      {
       "output_type": "stream",
       "stream": "stdout",
       "text": [
        "51 20624.7998452 0.0903243266052 3.69754561393\n",
        "jmp0gen0 1 1.0\n"
       ]
      },
      {
       "name": "stdout",
       "output_type": "stream",
       "stream": "stdout",
       "text": [
        "\n"
       ]
      },
      {
       "output_type": "stream",
       "stream": "stdout",
       "text": [
        "52 24853.9058513 0.108937813043 8.31910426125\n",
        "jmp0gen0 4 0.0\n"
       ]
      },
      {
       "name": "stdout",
       "output_type": "stream",
       "stream": "stdout",
       "text": [
        "\n"
       ]
      },
      {
       "output_type": "stream",
       "stream": "stdout",
       "text": [
        "53 29919.6923173 0.131275463003 19.8364204192\n",
        "jmp0gen0 3 1.0\n"
       ]
      },
      {
       "name": "stdout",
       "output_type": "stream",
       "stream": "stdout",
       "text": [
        "\n"
       ]
      },
      {
       "output_type": "stream",
       "stream": "stdout",
       "text": [
        "54 35974.1240406 0.158032362614 2.75789689233\n",
        "jmp0gen0 0 1.0\n"
       ]
      },
      {
       "name": "stdout",
       "output_type": "stream",
       "stream": "stdout",
       "text": [
        "\n"
       ]
      },
      {
       "output_type": "stream",
       "stream": "stdout",
       "text": [
        "55 43190.8246116 0.190011172401 17.6957005337\n",
        "jmp0gen0 4 1.0\n"
       ]
      },
      {
       "name": "stdout",
       "output_type": "stream",
       "stream": "stdout",
       "text": [
        "\n"
       ]
      },
      {
       "output_type": "stream",
       "stream": "stdout",
       "text": [
        "56 51765.549964 0.228128952137 8.5035167066\n",
        "jmp0gen0 1 1.0\n"
       ]
      },
      {
       "name": "stdout",
       "output_type": "stream",
       "stream": "stdout",
       "text": [
        "\n"
       ]
      },
      {
       "output_type": "stream",
       "stream": "stdout",
       "text": [
        "57 61915.3638781 0.273419662076 1.83063459246\n",
        "jmp0gen0 3 1.0\n"
       ]
      },
      {
       "name": "stdout",
       "output_type": "stream",
       "stream": "stdout",
       "text": [
        "\n"
       ]
      },
      {
       "output_type": "stream",
       "stream": "stdout",
       "text": [
        "58 73875.9102858 0.32702980806 3.3227332169\n",
        "jmp0gen0 4 0.0\n"
       ]
      },
      {
       "name": "stdout",
       "output_type": "stream",
       "stream": "stdout",
       "text": [
        "\n"
       ]
      },
      {
       "output_type": "stream",
       "stream": "stdout",
       "text": [
        "59 87896.0705706 0.390204034149 0.914122042816\n",
        "jmp0gen0 4 1.0\n"
       ]
      },
      {
       "ename": "KeyboardInterrupt",
       "evalue": "",
       "output_type": "pyerr",
       "traceback": [
        "\u001b[1;31m---------------------------------------------------------------------------\u001b[0m\n\u001b[1;31mKeyboardInterrupt\u001b[0m                         Traceback (most recent call last)",
        "\u001b[1;32m<ipython-input-17-3b302d2495d4>\u001b[0m in \u001b[0;36m<module>\u001b[1;34m()\u001b[0m\n\u001b[0;32m     52\u001b[0m \u001b[1;33m\u001b[0m\u001b[0m\n\u001b[0;32m     53\u001b[0m \u001b[1;33m\u001b[0m\u001b[0m\n\u001b[1;32m---> 54\u001b[1;33m         \u001b[0mraw_input\u001b[0m\u001b[1;33m(\u001b[0m\u001b[1;33m)\u001b[0m\u001b[1;33m\u001b[0m\u001b[0m\n\u001b[0m\u001b[0;32m     55\u001b[0m \u001b[1;33m\u001b[0m\u001b[0m\n\u001b[0;32m     56\u001b[0m     \u001b[1;32mfor\u001b[0m \u001b[0mj\u001b[0m \u001b[1;32min\u001b[0m \u001b[0mNr\u001b[0m\u001b[1;33m.\u001b[0m\u001b[0mkeys\u001b[0m\u001b[1;33m(\u001b[0m\u001b[1;33m)\u001b[0m\u001b[1;33m:\u001b[0m\u001b[1;33m\u001b[0m\u001b[0m\n",
        "\u001b[1;32m/usr/local/lib/python2.7/dist-packages/IPython/kernel/zmq/ipkernel.pyc\u001b[0m in \u001b[0;36m<lambda>\u001b[1;34m(prompt)\u001b[0m\n\u001b[0;32m    361\u001b[0m         \u001b[1;31m# raw_input in the user namespace.\u001b[0m\u001b[1;33m\u001b[0m\u001b[1;33m\u001b[0m\u001b[0m\n\u001b[0;32m    362\u001b[0m         \u001b[1;32mif\u001b[0m \u001b[0mcontent\u001b[0m\u001b[1;33m.\u001b[0m\u001b[0mget\u001b[0m\u001b[1;33m(\u001b[0m\u001b[1;34m'allow_stdin'\u001b[0m\u001b[1;33m,\u001b[0m \u001b[0mFalse\u001b[0m\u001b[1;33m)\u001b[0m\u001b[1;33m:\u001b[0m\u001b[1;33m\u001b[0m\u001b[0m\n\u001b[1;32m--> 363\u001b[1;33m             \u001b[0mraw_input\u001b[0m \u001b[1;33m=\u001b[0m \u001b[1;32mlambda\u001b[0m \u001b[0mprompt\u001b[0m\u001b[1;33m=\u001b[0m\u001b[1;34m''\u001b[0m\u001b[1;33m:\u001b[0m \u001b[0mself\u001b[0m\u001b[1;33m.\u001b[0m\u001b[0m_raw_input\u001b[0m\u001b[1;33m(\u001b[0m\u001b[0mprompt\u001b[0m\u001b[1;33m,\u001b[0m \u001b[0mident\u001b[0m\u001b[1;33m,\u001b[0m \u001b[0mparent\u001b[0m\u001b[1;33m)\u001b[0m\u001b[1;33m\u001b[0m\u001b[0m\n\u001b[0m\u001b[0;32m    364\u001b[0m             \u001b[0minput\u001b[0m \u001b[1;33m=\u001b[0m \u001b[1;32mlambda\u001b[0m \u001b[0mprompt\u001b[0m\u001b[1;33m=\u001b[0m\u001b[1;34m''\u001b[0m\u001b[1;33m:\u001b[0m \u001b[0meval\u001b[0m\u001b[1;33m(\u001b[0m\u001b[0mraw_input\u001b[0m\u001b[1;33m(\u001b[0m\u001b[0mprompt\u001b[0m\u001b[1;33m)\u001b[0m\u001b[1;33m)\u001b[0m\u001b[1;33m\u001b[0m\u001b[0m\n\u001b[0;32m    365\u001b[0m         \u001b[1;32melse\u001b[0m\u001b[1;33m:\u001b[0m\u001b[1;33m\u001b[0m\u001b[0m\n",
        "\u001b[1;32m/usr/local/lib/python2.7/dist-packages/IPython/kernel/zmq/ipkernel.pyc\u001b[0m in \u001b[0;36m_raw_input\u001b[1;34m(self, prompt, ident, parent)\u001b[0m\n\u001b[0;32m    763\u001b[0m             \u001b[1;32mexcept\u001b[0m \u001b[0mKeyboardInterrupt\u001b[0m\u001b[1;33m:\u001b[0m\u001b[1;33m\u001b[0m\u001b[0m\n\u001b[0;32m    764\u001b[0m                 \u001b[1;31m# re-raise KeyboardInterrupt, to truncate traceback\u001b[0m\u001b[1;33m\u001b[0m\u001b[1;33m\u001b[0m\u001b[0m\n\u001b[1;32m--> 765\u001b[1;33m                 \u001b[1;32mraise\u001b[0m \u001b[0mKeyboardInterrupt\u001b[0m\u001b[1;33m\u001b[0m\u001b[0m\n\u001b[0m\u001b[0;32m    766\u001b[0m             \u001b[1;32melse\u001b[0m\u001b[1;33m:\u001b[0m\u001b[1;33m\u001b[0m\u001b[0m\n\u001b[0;32m    767\u001b[0m                 \u001b[1;32mbreak\u001b[0m\u001b[1;33m\u001b[0m\u001b[0m\n",
        "\u001b[1;31mKeyboardInterrupt\u001b[0m: "
       ]
      }
     ],
     "prompt_number": 17
    },
    {
     "cell_type": "code",
     "collapsed": false,
     "input": [],
     "language": "python",
     "metadata": {},
     "outputs": [],
     "prompt_number": 17
    },
    {
     "cell_type": "code",
     "collapsed": false,
     "input": [],
     "language": "python",
     "metadata": {},
     "outputs": []
    }
   ],
   "metadata": {}
  }
 ]
}