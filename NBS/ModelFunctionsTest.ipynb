{
 "metadata": {
  "name": "",
  "signature": "sha256:d2e941ec45fb46234cab3dcdd8de1aa4a4bf187c6623a7967bc0c24977f98a7f"
 },
 "nbformat": 3,
 "nbformat_minor": 0,
 "worksheets": [
  {
   "cells": [
    {
     "cell_type": "code",
     "collapsed": false,
     "input": [
      "#!/usr/bin/env python\n",
      "#INITIALIZATION\n",
      "import sys\n",
      "sys.path.append('../codes/')\n",
      "from pygsl import rng as rn\n",
      "import math as mth\n",
      "import numpy as np\n",
      "#import TwoSpeedMods as hpm\n",
      "#import cubel as cbl\n",
      "SEED=987654321\n",
      "rk=rn.rng()\n",
      "rk.set(SEED)\n",
      "\n",
      "LH=10 #HOST LENGTH\n",
      "Kh=500 # Host Urn Size\n",
      "Kp=100 # Pathoghen Urn Size\n",
      "\n",
      "H={} #Hosts\n",
      "HP={} #Host-Pathogen Matrix\n",
      "HC={} #HYPER-CUBES\n",
      "\n",
      "import newhost as nh\n",
      "\n",
      "h1=nh.NEWHOST(LH,Kh,rk)"
     ],
     "language": "python",
     "metadata": {},
     "outputs": [],
     "prompt_number": 6
    },
    {
     "cell_type": "code",
     "collapsed": false,
     "input": [
      "print h1"
     ],
     "language": "python",
     "metadata": {},
     "outputs": [
      {
       "output_type": "stream",
       "stream": "stdout",
       "text": [
        "[37L, 109L, 143L, 154L, 233L, 249L, 310L, 312L, 378L, 383L]\n"
       ]
      }
     ],
     "prompt_number": 7
    },
    {
     "cell_type": "code",
     "collapsed": false,
     "input": [],
     "language": "python",
     "metadata": {},
     "outputs": []
    }
   ],
   "metadata": {}
  }
 ]
}