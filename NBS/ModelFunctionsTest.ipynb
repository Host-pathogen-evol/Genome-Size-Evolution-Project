{
 "metadata": {
  "name": "",
  "signature": "sha256:54a8f7ad3d3c0759ae02c07865d8b6715afdd5154ffde3c59cc39d39ba8ffef2"
 },
 "nbformat": 3,
 "nbformat_minor": 0,
 "worksheets": [
  {
   "cells": [
    {
     "cell_type": "code",
     "collapsed": false,
     "input": [
      "#!/usr/bin/env python\n",
      "#INITIALIZATION\n",
      "import sys\n",
      "sys.path.append('../codes/')\n",
      "from pygsl import rng as rn\n",
      "import math as mth\n",
      "import numpy as np\n",
      "\n",
      "#import TwoSpeedMods as hpm\n",
      "#import cubel as cbl\n",
      "SEED=987654321\n",
      "rk=rn.rng()\n",
      "rk.set(SEED)\n",
      "\n",
      "LH=10 #HOST LENGTH\n",
      "Kh=500 # Host Urn Size\n",
      "Kp=100 # Pathoghen Urn Size\n",
      "C1=0.2\n",
      "C2=0.8\n",
      "C3=0.5\n",
      "\n",
      "H={} #Hosts\n",
      "#HP Host-Pathogen Matrix\n",
      "HC={} #HYPER-CUBES\n",
      "\n",
      "import newhost as nh\n",
      "\n",
      "h1=nh.NEWHOST(LH,Kh,rk) #Creates a new host\n",
      "print h1\n",
      "\n",
      "import hypercube as hc #Creates all the  2^L binary vertices.\n",
      "HC=hc.HYPERCUBE(LH)\n",
      "#print len(HC.keys())\n",
      "\n",
      "import prtcube as prtc #Prints the hypercube it works ok\n",
      "#prtc.PRTCUBE(HC)\n",
      "\n",
      "import hpmatrix as hpmt\n",
      "\n",
      "HP1=hpmt.HPMATRIX(Kh,Kp,C1,rk) \n",
      "HP2=hpmt.HPMATRIX(Kh,Kp,C2,rk) \n",
      "HP3=hpmt.HPMATRIX(Kh,Kp,C3,rk) \n",
      "print(\"done\")\n",
      "\n",
      "import lstdst as hdst #Calculates hamming distances\n",
      "\n",
      "d1=hdst.LSTDST(HP1[0],HP1[0])\n",
      "\n",
      "d2=hdst.LSTDST(HP1[0],HP2[0])\n",
      "\n",
      "#print d1, d2 Works fine apparently\n"
     ],
     "language": "python",
     "metadata": {},
     "outputs": [
      {
       "output_type": "stream",
       "stream": "stdout",
       "text": [
        "[37L, 109L, 143L, 154L, 233L, 249L, 310L, 312L, 378L, 383L]\n",
        "done\n"
       ]
      }
     ],
     "prompt_number": 2
    },
    {
     "cell_type": "code",
     "collapsed": false,
     "input": [
      "import modA as mda\n",
      "h2=mda.newhost.NEWHOST(LH,Kh,rk) #Creates a new host\n",
      "print h2"
     ],
     "language": "python",
     "metadata": {},
     "outputs": [
      {
       "output_type": "stream",
       "stream": "stdout",
       "text": [
        "[19L, 25L, 141L, 152L, 225L, 287L, 309L, 328L, 388L, 455L]\n"
       ]
      }
     ],
     "prompt_number": 4
    },
    {
     "cell_type": "code",
     "collapsed": false,
     "input": [],
     "language": "python",
     "metadata": {},
     "outputs": [
      {
       "metadata": {},
       "output_type": "pyout",
       "prompt_number": 1,
       "text": [
        "u'/home/carlos/REPOSITORIES/TSL/2SPEEDGEN/NBS'"
       ]
      }
     ],
     "prompt_number": 1
    },
    {
     "cell_type": "code",
     "collapsed": false,
     "input": [],
     "language": "python",
     "metadata": {},
     "outputs": []
    }
   ],
   "metadata": {}
  }
 ]
}