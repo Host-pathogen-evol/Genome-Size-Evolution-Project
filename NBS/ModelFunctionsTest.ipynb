{
 "metadata": {
  "name": "",
  "signature": "sha256:bdd4b14258bf8559de0427c8ab62425b2eb57ff5340331177ba9c9ffb95b8745"
 },
 "nbformat": 3,
 "nbformat_minor": 0,
 "worksheets": [
  {
   "cells": [
    {
     "cell_type": "code",
     "collapsed": false,
     "input": [
      "#!/usr/bin/env python\n",
      "#INITIALIZATION\n",
      "import sys\n",
      "sys.path.append('../codes/')\n",
      "from pygsl import rng as rn\n",
      "import math as mth\n",
      "import numpy as np\n",
      "\n",
      "#import TwoSpeedMods as hpm\n",
      "#import cubel as cbl\n",
      "SEED=987654321\n",
      "rk=rn.rng()\n",
      "rk.set(SEED)\n",
      "##############################\n",
      "#Constants and Parameters\n",
      "LH=10 #HOST LENGTH\n",
      "Kh=500 # Host Urn Size\n",
      "Kp=100 # Pathoghen Urn Size\n",
      "C1=0.2\n",
      "C2=0.8\n",
      "C3=0.5\n",
      "\n",
      "lnsigma=0.702693602048\n",
      "lnmean=1177.42231142\n",
      "LNPRT=[lnsigma,lnmean]\n",
      "\n",
      "H={} #Hosts\n",
      "#HP Host-Pathogen Matrix\n",
      "HC={} #HYPER-CUBES\n",
      "\n",
      "import newhost as nh\n",
      "\n",
      "h1=nh.NEWHOST(LH,Kh,rk) #Creates a new host\n",
      "print h1\n",
      "\n",
      "import hypercube as hc #Creates all the  2^L binary vertices.\n",
      "HC=hc.HYPERCUBE(LH)\n",
      "#print len(HC.keys())\n",
      "\n",
      "import prtcube as prtc #Prints the hypercube it works ok\n",
      "#prtc.PRTCUBE(HC)\n",
      "\n",
      "import hpmatrix as hpmt\n",
      "\n",
      "HP1=hpmt.HPMATRIX(Kh,Kp,C1,rk) \n",
      "HP2=hpmt.HPMATRIX(Kh,Kp,C2,rk) \n",
      "HP3=hpmt.HPMATRIX(Kh,Kp,C3,rk) \n",
      "print(\"done\")\n",
      "\n",
      "import lstdst as hdst #Calculates hamming distances\n",
      "\n",
      "d1=hdst.LSTDST(HP1[0],HP1[0])\n",
      "\n",
      "d2=hdst.LSTDST(HP1[0],HP2[0])\n",
      "\n",
      "#print d1, d2 Works fine apparently\n"
     ],
     "language": "python",
     "metadata": {},
     "outputs": [
      {
       "output_type": "stream",
       "stream": "stdout",
       "text": [
        "[37L, 109L, 143L, 154L, 233L, 249L, 310L, 312L, 378L, 383L]\n",
        "done"
       ]
      },
      {
       "output_type": "stream",
       "stream": "stdout",
       "text": [
        "\n"
       ]
      }
     ],
     "prompt_number": 1
    },
    {
     "cell_type": "code",
     "collapsed": false,
     "input": [
      "import modA as mda\n",
      "h2=mda.newhost.NEWHOST(LH,Kh,rk) #Creates a new host\n",
      "print h2\n",
      "\n",
      "#import modA.newhost as mdanuh\n",
      "#h2a=mdanuh.NEWHOST(LH,Kh,rk)\n",
      "#print h2a"
     ],
     "language": "python",
     "metadata": {},
     "outputs": [
      {
       "output_type": "stream",
       "stream": "stdout",
       "text": [
        "[32L, 111L, 181L, 245L, 286L, 291L, 302L, 377L, 384L, 432L]\n"
       ]
      }
     ],
     "prompt_number": 2
    },
    {
     "cell_type": "code",
     "collapsed": false,
     "input": [
      "#Pathogen generation I\n",
      "Neff=5\n",
      "h3=mda.neweffectorlist.NEWEFFECTORLIST(Neff,Kp,rk)\n",
      "print h3"
     ],
     "language": "python",
     "metadata": {},
     "outputs": [
      {
       "output_type": "stream",
       "stream": "stdout",
       "text": [
        "[29L, 45L, 62L, 66L, 78L]\n"
       ]
      }
     ],
     "prompt_number": 3
    },
    {
     "cell_type": "code",
     "collapsed": false,
     "input": [
      "#Pathogen generation II\n",
      "INTPTHU={}\n",
      "for i in h3:\n",
      "    INTPTHU[i]=mda.newpathogenunita.NEWPATHOGENUNITA(i,rk,LNPRT)\n",
      "print INTPTHU"
     ],
     "language": "python",
     "metadata": {},
     "outputs": [
      {
       "output_type": "stream",
       "stream": "stdout",
       "text": [
        "{66L: ['E66', 66L, 765.1895609421357], 78L: ['E78', 78L, 1874.917229934068], 29L: ['E29', 29L, 1581.8460311575388], 62L: ['E62', 62L, 492.07815977894052], 45L: ['E45', 45L, 622.60424807725792]}\n"
       ]
      }
     ],
     "prompt_number": 7
    },
    {
     "cell_type": "code",
     "collapsed": false,
     "input": [
      "#Pathogen generation III"
     ],
     "language": "python",
     "metadata": {},
     "outputs": []
    }
   ],
   "metadata": {}
  }
 ]
}