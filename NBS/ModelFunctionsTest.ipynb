{
 "metadata": {
  "name": "",
  "signature": "sha256:36171c580504dcf4e241ff27ff596b39bdf4d9e9b2d7fc5623abd18345e370f7"
 },
 "nbformat": 3,
 "nbformat_minor": 0,
 "worksheets": [
  {
   "cells": [
    {
     "cell_type": "code",
     "collapsed": false,
     "input": [
      "#!/usr/bin/env python\n",
      "#INITIALIZATION\n",
      "import sys\n",
      "sys.path.append('../codes/')\n",
      "from pygsl import rng as rn\n",
      "import math as mth\n",
      "import numpy as np\n",
      "##############################\n",
      "#Constants and Parameters\n",
      "SEED=987654321\n",
      "rk=rn.rng()\n",
      "rk.set(SEED)\n",
      "LH=10 #HOST LENGTH\n",
      "Kh=500 # Host Urn Size\n",
      "Kp=100 # Pathoghen Urn Size\n",
      "C1=0.2\n",
      "C2=0.8\n",
      "C3=0.5\n",
      "sohill=0.5\n",
      "nhill=5\n",
      "hlpt=[sohill,nhill]\n",
      "lnsigma=0.702693602048\n",
      "lnmean=1177.42231142\n",
      "LNPRT=[lnsigma,lnmean]\n",
      "lihill=2.0*lnmean\n",
      "mu1=0.000001\n",
      "mu2=0.000001\n",
      "mu3=0.000001\n",
      "MU=[mu1, mu2, mu3]\n",
      "B=10.0\n",
      "Lwn=LH*C2\n",
      "Prms=[B,Lwn,lnmean]\n",
      "######################################\n",
      "H={} #Hosts\n",
      "#HPk Host-Pathogen Matrices\n",
      "HC={} #HYPER-CUBES\n",
      "Gr={} #GENOMES\n",
      "Nr={} #POPS\n",
      "Tr={} #TRANSITION RATES\n",
      "###############################################################################################\n",
      "import newhost as nh\n",
      "\n",
      "h1=nh.NEWHOST(LH,Kh,rk) #Creates a new host\n",
      "print h1\n",
      "\n",
      "import hypercube as hc #Creates all the  2^L binary vertices.\n",
      "HC=hc.HYPERCUBE(LH)\n",
      "#print len(HC.keys())\n",
      "\n",
      "import prtcube as prtc #Prints the hypercube it works ok\n",
      "#prtc.PRTCUBE(HC)\n",
      "\n",
      "import hpmatrix as hpmt\n",
      "\n",
      "HP1=hpmt.HPMATRIX(Kp,Kh,C1,rk) \n",
      "HP2=hpmt.HPMATRIX(Kp,Kh,C2,rk) \n",
      "HP3=hpmt.HPMATRIX(Kp,Kh,C3,rk) \n",
      "print(\"done\")\n",
      "\n",
      "import lstdst as hdst #Calculates hamming distances\n",
      "\n",
      "d1=hdst.LSTDST(HP1[0],HP1[0])\n",
      "\n",
      "d2=hdst.LSTDST(HP1[0],HP2[0])\n",
      "\n",
      "#print d1, d2 Works fine apparently\n"
     ],
     "language": "python",
     "metadata": {},
     "outputs": [
      {
       "output_type": "stream",
       "stream": "stdout",
       "text": [
        "[37L, 109L, 143L, 154L, 233L, 249L, 310L, 312L, 378L, 383L]\n",
        "done\n"
       ]
      }
     ],
     "prompt_number": 1
    },
    {
     "cell_type": "code",
     "collapsed": false,
     "input": [
      "import modA as mda\n",
      "h2=mda.newhost.NEWHOST(LH,Kh,rk) #Creates a new host\n",
      "print h2\n",
      "\n",
      "#import modA.newhost as mdanuh\n",
      "#h2a=mdanuh.NEWHOST(LH,Kh,rk)\n",
      "#print h2a"
     ],
     "language": "python",
     "metadata": {},
     "outputs": [
      {
       "output_type": "stream",
       "stream": "stdout",
       "text": [
        "[32L, 111L, 181L, 245L, 286L, 291L, 302L, 377L, 384L, 432L]\n"
       ]
      }
     ],
     "prompt_number": 2
    },
    {
     "cell_type": "code",
     "collapsed": false,
     "input": [
      "#Pathogen generation I\n",
      "Neff=5\n",
      "h3=mda.neweffectorlist.NEWEFFECTORLIST(Neff,Kp,rk)\n",
      "print h3"
     ],
     "language": "python",
     "metadata": {},
     "outputs": [
      {
       "output_type": "stream",
       "stream": "stdout",
       "text": [
        "[29L, 45L, 62L, 66L, 78L]\n"
       ]
      }
     ],
     "prompt_number": 3
    },
    {
     "cell_type": "code",
     "collapsed": false,
     "input": [
      "#Pathogen generation II\n",
      "INTPTHU={}\n",
      "for i in h3:\n",
      "    INTPTHU[i]=mda.newpathogenunita.NEWPATHOGENUNITA(i,rk,LNPRT)\n",
      "print INTPTHU"
     ],
     "language": "python",
     "metadata": {},
     "outputs": [
      {
       "output_type": "stream",
       "stream": "stdout",
       "text": [
        "{66L: ['E66', 66L, 1028.6370663405523], 78L: ['E78', 78L, 883.74068725338384], 29L: ['E29', 29L, 414.87472301453516], 62L: ['E62', 62L, 733.62646358766722], 45L: ['E45', 45L, 1122.429404324844]}\n"
       ]
      }
     ],
     "prompt_number": 4
    },
    {
     "cell_type": "code",
     "collapsed": false,
     "input": [
      "#Pathogen generation III\n",
      "print len(HP1[0]) #Kp\n",
      "print len(HP1) #Kh\n",
      "print h1\n",
      "for i in INTPTHU.keys():\n",
      "    mu=mda.scoresinit.SCORESINIT(HP1[i-1],rk)\n",
      "    wn=mda.calcwij.CALCWIJ(mu,h1,hlpt,INTPTHU[i][2],lihill)\n",
      "    print wn\n",
      "    #print len(wn)\n",
      "    #raw_input()\n",
      "    #print i, mu"
     ],
     "language": "python",
     "metadata": {},
     "outputs": [
      {
       "output_type": "stream",
       "stream": "stdout",
       "text": [
        "500\n",
        "100\n",
        "[37L, 109L, 143L, 154L, 233L, 249L, 310L, 312L, 378L, 383L]\n",
        "109 0.644961540587 0.656058787786\n",
        "143 0.903776942985 0.798388052284\n",
        "312 0.382105049212 0.173630414244\n",
        "378 0.232011893764 0.0176854068914\n",
        "{312L: 0.17363041424409348, 378L: 0.017685406891442261, 109L: 0.6560587877859837, 143L: 0.79838805228419341}\n",
        "{}\n",
        "143 0.530834888807 0.556962881785\n",
        "{143L: 0.55696288178511277}\n",
        "109 0.288150031818 0.0544814578539\n",
        "154 0.963258521631 0.878428834246\n",
        "233 0.992837568745 0.882928699481\n",
        "383 0.768552614376 0.816386689645\n",
        "{233L: 0.8829286994805855, 154L: 0.87842883424603413, 109L: 0.054481457853939312, 383L: 0.81638668964467298}\n",
        "37 0.247567215236 0.0235487308178\n",
        "310 0.656364439754 0.648510860071\n",
        "383 0.727901541628 0.706781584913\n",
        "{37L: 0.023548730817825887, 310L: 0.64851086007112191, 383L: 0.7067815849134601}\n"
       ]
      }
     ],
     "prompt_number": 5
    },
    {
     "cell_type": "code",
     "collapsed": false,
     "input": [
      "#Pathogen Generation IV\n",
      "INIPATHB={}\n",
      "INIPATHB=mda.genomeinit.GENOMEINIT(Neff,Kp,rk,LNPRT,HP2,h1,hlpt,lihill)\n",
      "print h1\n",
      "#print INIPATHB\n",
      "mda.prtgenome.PRTGENOME(INIPATHB)"
     ],
     "language": "python",
     "metadata": {},
     "outputs": [
      {
       "output_type": "stream",
       "stream": "stdout",
       "text": [
        "143 0.126938516973 0.00081780973894\n",
        "154 0.486564173596 0.361727972691\n",
        "233 0.0556383212097 1.3243587687e-05\n",
        "249 0.152438553749 0.00203926949728\n",
        "310 0.342964038253 0.102327615667\n",
        "312 0.606385772582 0.562017244617\n",
        "383 0.572566577466 0.514801783117\n",
        "37 0.967067273334 0.877131106646\n",
        "109 0.321515067015 0.0900902226575\n",
        "143 0.132720994297 0.00119700730462\n",
        "154 0.540794901317 0.54281433079\n",
        "249 0.0190999985207 7.39839023801e-08\n",
        "310 0.560826266417 0.58182131967\n",
        "37 0.99573983578 0.627598953482\n",
        "109 0.463934005937 0.263908120883\n",
        "143 0.265950447181 0.026446996968\n",
        "154 0.160393992439 0.00219254094446\n",
        "233 0.221095217625 0.0107670279659\n",
        "249 0.522362373071 0.35909700371\n",
        "310 0.508167754393 0.336927566805\n",
        "312 0.798048110912 0.590616778292\n",
        "378 0.301780006848 0.0480253567551\n",
        "383 0.641527634347 0.502982141762\n",
        "37 0.134143133415 0.00129320534075\n",
        "154 0.309980602702 0.0781706380293\n",
        "233 0.830210923217 0.86330281072\n",
        "249 0.174957256531 0.00486201190343\n",
        "310 0.17472108989 0.00482945499593\n",
        "378 0.221033391077 0.0154684604278\n",
        "383 0.0355290882289 1.68790500307e-06\n",
        "37 0.663269046228 0.701458393554\n",
        "109 0.21823166986 0.0136001093141\n",
        "143 0.536458658753 0.51206588713\n",
        "154 0.632253400981 0.666171528337\n",
        "233 0.462170068175 0.351423787164\n",
        "249 0.646332269302 0.682995664491\n",
        "310 0.175437973579 0.00461416397829\n",
        "312 0.709793793969 0.743296059915\n",
        "378 0.100324054249 0.000283571597267\n",
        "[37L, 109L, 143L, 154L, 233L, 249L, 310L, 312L, 378L, 383L]\n",
        "key:98\n",
        "label:E98\n",
        "length:1264.335199\n",
        "length-wij:7.000000\n",
        "233 0.055638 0.000013\n",
        "143 0.126939 0.000818\n",
        "310 0.342964 0.102328\n",
        "312 0.606386 0.562017\n",
        "249 0.152439 0.002039\n",
        "154 0.486564 0.361728\n",
        "383 0.572567 0.514802\n",
        "key:67\n",
        "label:E67\n",
        "length:742.653386\n",
        "length-wij:6.000000\n",
        "37 0.967067 0.877131\n",
        "109 0.321515 0.090090\n",
        "143 0.132721 0.001197\n",
        "310 0.560826 0.581821\n",
        "249 0.019100 0.000000\n",
        "154 0.540795 0.542814\n",
        "key:13\n",
        "label:E13\n",
        "length:1736.976279\n",
        "length-wij:10.000000\n",
        "37 0.995740 0.627599\n",
        "233 0.221095 0.010767\n",
        "109 0.463934 0.263908\n",
        "143 0.265950 0.026447\n",
        "310 0.508168 0.336928\n",
        "312 0.798048 0.590617\n",
        "249 0.522362 0.359097\n",
        "154 0.160394 0.002193\n",
        "378 0.301780 0.048025\n",
        "383 0.641528 0.502982\n",
        "key:78\n",
        "label:E78\n",
        "length:637.554012\n",
        "length-wij:7.000000\n",
        "37 0.134143 0.001293\n",
        "233 0.830211 0.863303\n",
        "310 0.174721 0.004829\n",
        "249 0.174957 0.004862\n",
        "154 0.309981 0.078171\n",
        "378 0.221033 0.015468\n",
        "383 0.035529 0.000002\n",
        "key:53\n",
        "label:E53\n",
        "length:901.302707\n",
        "length-wij:9.000000\n",
        "37 0.663269 0.701458\n",
        "233 0.462170 0.351424\n",
        "109 0.218232 0.013600\n",
        "143 0.536459 0.512066\n",
        "310 0.175438 0.004614\n",
        "312 0.709794 0.743296\n",
        "249 0.646332 0.682996\n",
        "154 0.632253 0.666172\n",
        "378 0.100324 0.000284\n"
       ]
      }
     ],
     "prompt_number": 6
    },
    {
     "cell_type": "code",
     "collapsed": false,
     "input": [
      "#GET Wk sum and Wn!!!!! \n",
      "Wo=mda.getwksum.GETWKSUM(INIPATHB,C2*len(h1))\n",
      "print Wo\n"
     ],
     "language": "python",
     "metadata": {},
     "outputs": [
      {
       "output_type": "stream",
       "stream": "stdout",
       "text": [
        "0.276229973058\n"
       ]
      }
     ],
     "prompt_number": 7
    },
    {
     "cell_type": "code",
     "collapsed": false,
     "input": [
      "#GET LENGTH\n",
      "Lo=mda.getlength.GETLENGTH(INIPATHB)\n",
      "print Lo"
     ],
     "language": "python",
     "metadata": {},
     "outputs": [
      {
       "output_type": "stream",
       "stream": "stdout",
       "text": [
        "5282.82158263\n"
       ]
      }
     ],
     "prompt_number": 8
    },
    {
     "cell_type": "code",
     "collapsed": false,
     "input": [
      "#RATES TRATES(RK,Gn,Np,Prms,Lg): \n",
      "#RK=mutation rate array\n",
      "#Gn=Genome!\n",
      "#Np=Population\n",
      "#wij prefactor\n",
      "#Prms=more paramters [LhCn,Lav]\n",
      "#Lg=genome length\n",
      "NBo=10000.0\n",
      "trn=mda.trates.TRATES(MU,INIPATHB,NBo,Prms,Lo)\n",
      "print trn"
     ],
     "language": "python",
     "metadata": {},
     "outputs": [
      {
       "output_type": "stream",
       "stream": "stdout",
       "text": [
        "{98L: [0.0029706677781177102, 0.01, 0.00027799461715677539], 67L: [0.0015358504179563037, 0.01, 8.2178445667400429e-05], 13L: [0.0030350702839669098, 0.01, 8.2614003180247941e-05], 78L: [0.0016998534064241537, 0.01, 0.00028792782979172058], 53L: [0.0012230774735603807, 0.01, 1.3789892669149777e-05]}\n"
       ]
      }
     ],
     "prompt_number": 9
    },
    {
     "cell_type": "code",
     "collapsed": false,
     "input": [
      "#TRANSFORMATIONS"
     ],
     "language": "python",
     "metadata": {},
     "outputs": [],
     "prompt_number": 10
    },
    {
     "cell_type": "code",
     "collapsed": false,
     "input": [
      "#JUMP"
     ],
     "language": "python",
     "metadata": {},
     "outputs": [],
     "prompt_number": 2
    },
    {
     "cell_type": "code",
     "collapsed": false,
     "input": [
      "#MONTECARLO"
     ],
     "language": "python",
     "metadata": {},
     "outputs": [],
     "prompt_number": 3
    },
    {
     "cell_type": "code",
     "collapsed": false,
     "input": [],
     "language": "python",
     "metadata": {},
     "outputs": [],
     "prompt_number": 3
    },
    {
     "cell_type": "code",
     "collapsed": false,
     "input": [],
     "language": "python",
     "metadata": {},
     "outputs": []
    }
   ],
   "metadata": {}
  }
 ]
}