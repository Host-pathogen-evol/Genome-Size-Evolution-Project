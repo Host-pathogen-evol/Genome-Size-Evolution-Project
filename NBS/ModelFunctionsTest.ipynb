{
 "metadata": {
  "name": "",
  "signature": "sha256:4199c7f645ed4d9262f3aed6bb1f5a31c4a7a91c77c81d81573ef105efe8201d"
 },
 "nbformat": 3,
 "nbformat_minor": 0,
 "worksheets": [
  {
   "cells": [
    {
     "cell_type": "code",
     "collapsed": false,
     "input": [
      "#!/usr/bin/env python\n",
      "#INITIALIZATION\n",
      "import sys\n",
      "sys.path.append('../codes/')\n",
      "from pygsl import rng as rn\n",
      "import math as mth\n",
      "import numpy as np\n",
      "##############################\n",
      "#Constants and Parameters\n",
      "SEED=987654321\n",
      "rk=rn.rng()\n",
      "rk.set(SEED)\n",
      "LH=10 #HOST LENGTH\n",
      "Kh=500 # Host Urn Size\n",
      "Kp=100 # Pathoghen Urn Size\n",
      "C1=0.2\n",
      "C2=0.8\n",
      "C3=0.5\n",
      "sohill=0.5\n",
      "nhill=5\n",
      "hlpt=[sohill,nhill]\n",
      "lnsigma=0.702693602048\n",
      "lnmean=1177.42231142\n",
      "LNPRT=[lnsigma,lnmean]\n",
      "######################################\n",
      "H={} #Hosts\n",
      "#HPk Host-Pathogen Matrices\n",
      "HC={} #HYPER-CUBES\n",
      "Gr={} #GENOMES\n",
      "Nr={} #POPS\n",
      "Tr={} #TRANSITION RATES\n",
      "###############################################################################################\n",
      "import newhost as nh\n",
      "\n",
      "h1=nh.NEWHOST(LH,Kh,rk) #Creates a new host\n",
      "print h1\n",
      "\n",
      "import hypercube as hc #Creates all the  2^L binary vertices.\n",
      "HC=hc.HYPERCUBE(LH)\n",
      "#print len(HC.keys())\n",
      "\n",
      "import prtcube as prtc #Prints the hypercube it works ok\n",
      "#prtc.PRTCUBE(HC)\n",
      "\n",
      "import hpmatrix as hpmt\n",
      "\n",
      "HP1=hpmt.HPMATRIX(Kp,Kh,C1,rk) \n",
      "HP2=hpmt.HPMATRIX(Kp,Kh,C2,rk) \n",
      "HP3=hpmt.HPMATRIX(Kp,Kh,C3,rk) \n",
      "print(\"done\")\n",
      "\n",
      "import lstdst as hdst #Calculates hamming distances\n",
      "\n",
      "d1=hdst.LSTDST(HP1[0],HP1[0])\n",
      "\n",
      "d2=hdst.LSTDST(HP1[0],HP2[0])\n",
      "\n",
      "#print d1, d2 Works fine apparently\n"
     ],
     "language": "python",
     "metadata": {},
     "outputs": [
      {
       "output_type": "stream",
       "stream": "stdout",
       "text": [
        "[37L, 109L, 143L, 154L, 233L, 249L, 310L, 312L, 378L, 383L]\n",
        "done"
       ]
      },
      {
       "output_type": "stream",
       "stream": "stdout",
       "text": [
        "\n"
       ]
      }
     ],
     "prompt_number": 23
    },
    {
     "cell_type": "code",
     "collapsed": false,
     "input": [
      "import modA as mda\n",
      "h2=mda.newhost.NEWHOST(LH,Kh,rk) #Creates a new host\n",
      "print h2\n",
      "\n",
      "#import modA.newhost as mdanuh\n",
      "#h2a=mdanuh.NEWHOST(LH,Kh,rk)\n",
      "#print h2a"
     ],
     "language": "python",
     "metadata": {},
     "outputs": [
      {
       "output_type": "stream",
       "stream": "stdout",
       "text": [
        "[32L, 111L, 181L, 245L, 286L, 291L, 302L, 377L, 384L, 432L]\n"
       ]
      }
     ],
     "prompt_number": 24
    },
    {
     "cell_type": "code",
     "collapsed": false,
     "input": [
      "#Pathogen generation I\n",
      "Neff=5\n",
      "h3=mda.neweffectorlist.NEWEFFECTORLIST(Neff,Kp,rk)\n",
      "print h3"
     ],
     "language": "python",
     "metadata": {},
     "outputs": [
      {
       "output_type": "stream",
       "stream": "stdout",
       "text": [
        "[29L, 45L, 62L, 66L, 78L]\n"
       ]
      }
     ],
     "prompt_number": 25
    },
    {
     "cell_type": "code",
     "collapsed": false,
     "input": [
      "#Pathogen generation II\n",
      "INTPTHU={}\n",
      "for i in h3:\n",
      "    INTPTHU[i]=mda.newpathogenunita.NEWPATHOGENUNITA(i,rk,LNPRT)\n",
      "print INTPTHU"
     ],
     "language": "python",
     "metadata": {},
     "outputs": [
      {
       "output_type": "stream",
       "stream": "stdout",
       "text": [
        "{66L: ['E66', 66L, 1263.7051188028609], 78L: ['E78', 78L, 1131.5977201739656], 29L: ['E29', 29L, 698.31214051307973], 62L: ['E62', 62L, 1413.0268895632514], 45L: ['E45', 45L, 1482.2742432805874]}\n"
       ]
      }
     ],
     "prompt_number": 26
    },
    {
     "cell_type": "code",
     "collapsed": false,
     "input": [
      "#Pathogen generation III\n",
      "print len(HP1[0]) #Kp\n",
      "print len(HP1) #Kh\n",
      "print h1\n",
      "for i in INTPTHU.keys():\n",
      "    mu=mda.scoresinit.SCORESINIT(HP1[i-1],rk)\n",
      "    wn=mda.calcwij.CALCWIJ(mu,h1,hlpt)\n",
      "    print wn\n",
      "    #print len(wn)\n",
      "    #raw_input()\n",
      "    #print i, mu"
     ],
     "language": "python",
     "metadata": {},
     "outputs": [
      {
       "output_type": "stream",
       "stream": "stdout",
       "text": [
        "500\n",
        "100\n",
        "[37L, 109L, 143L, 154L, 233L, 249L, 310L, 312L, 378L, 383L]\n",
        "109 0.644961540587 0.781240988765\n",
        "143 0.903776942985 0.950728018581\n",
        "312 0.382105049212 0.206760733991\n",
        "378 0.232011893764 0.021059949236\n",
        "{312L: 0.20676073399076472, 378L: 0.021059949235963545, 109L: 0.7812409887649379, 143L: 0.9507280185812974}\n",
        "{}\n",
        "143 0.530834888807 0.574250520995\n",
        "{143L: 0.5742505209946025}\n",
        "109 0.288150031818 0.0597692476745\n",
        "154 0.963258521631 0.963686226958\n",
        "233 0.992837568745 0.968622834206\n",
        "383 0.768552614376 0.895622477327\n",
        "{233L: 0.9686228342058529, 154L: 0.9636862269581785, 109L: 0.05976924767446617, 383L: 0.8956224773266023}\n",
        "37 0.247567215236 0.0288988205056\n",
        "310 0.656364439754 0.795847516629\n",
        "383 0.727901541628 0.867356899915\n",
        "{37L: 0.028898820505608006, 310L: 0.7958475166290548, 383L: 0.8673568999150401}\n"
       ]
      }
     ],
     "prompt_number": 27
    },
    {
     "cell_type": "code",
     "collapsed": false,
     "input": [
      "#Pathogen Generation IV\n",
      "INIPATHB={}\n",
      "INIPATHB=mda.genomeinit.GENOMEINIT(Neff,Kp,rk,LNPRT,HP2,h1,hlpt)\n",
      "print h1\n",
      "#print INIPATHB\n",
      "mda.prtgenome.PRTGENOME(INIPATHB)"
     ],
     "language": "python",
     "metadata": {},
     "outputs": [
      {
       "output_type": "stream",
       "stream": "stdout",
       "text": [
        "143 0.126938516973 0.00105356002145\n",
        "154 0.486564173596 0.466003414389\n",
        "233 0.0556383212097 1.70613210668e-05\n",
        "249 0.152438553749 0.00262713038619\n",
        "310 0.342964038253 0.131825631102\n",
        "312 0.606385772582 0.72403014063\n",
        "383 0.572566577466 0.66320386251\n",
        "37 0.967067273334 0.964370438432\n",
        "109 0.321515067015 0.0990505830478\n",
        "143 0.132720994297 0.00131606147634\n",
        "154 0.540794901317 0.596802564867\n",
        "249 0.0190999985207 8.13423305075e-08\n",
        "310 0.560826266417 0.639689183166\n",
        "37 0.99573983578 0.969063384737\n",
        "109 0.463934005937 0.407495416403\n",
        "143 0.265950447181 0.0408362956244\n",
        "154 0.160393992439 0.00338545999324\n",
        "233 0.221095217625 0.0166251592778\n",
        "249 0.522362373071 0.554474726151\n",
        "310 0.508167754393 0.520243328145\n",
        "312 0.798048110912 0.911959924533\n",
        "378 0.301780006848 0.0741550229046\n",
        "383 0.641527634347 0.776644980134\n",
        "37 0.134143133415 0.00138799848787\n",
        "154 0.309980602702 0.0839006180705\n",
        "233 0.830210923217 0.926583704924\n",
        "249 0.174957256531 0.00521840187119\n",
        "310 0.17472108989 0.00518345851227\n",
        "378 0.221033391077 0.0166023128787\n",
        "383 0.0355290882289 1.81163000037e-06\n",
        "37 0.663269046228 0.804217129625\n",
        "109 0.21823166986 0.0155924299655\n",
        "143 0.536458658753 0.58707994902\n",
        "154 0.632253400981 0.763760986083\n",
        "233 0.462170068175 0.402904907821\n",
        "249 0.646332269302 0.783049740214\n",
        "310 0.175437973579 0.00529010664686\n",
        "312 0.709793793969 0.852183720745\n",
        "378 0.100324054249 0.000325112847879\n",
        "[37L, 109L, 143L, 154L, 233L, 249L, 310L, 312L, 378L, 383L]\n",
        "key:98\n",
        "label:E98\n",
        "length:633.675716\n",
        "length-wij:7.000000\n",
        "233 0.055638 0.000017\n",
        "143 0.126939 0.001054\n",
        "310 0.342964 0.131826\n",
        "312 0.606386 0.724030\n",
        "249 0.152439 0.002627\n",
        "154 0.486564 0.466003\n",
        "383 0.572567 0.663204\n",
        "key:67\n",
        "label:E67\n",
        "length:1029.833192\n",
        "length-wij:6.000000\n",
        "37 0.967067 0.964370\n",
        "109 0.321515 0.099051\n",
        "143 0.132721 0.001316\n",
        "310 0.560826 0.639689\n",
        "249 0.019100 0.000000\n",
        "154 0.540795 0.596803\n",
        "key:13\n",
        "label:E13\n",
        "length:894.545412\n",
        "length-wij:10.000000\n",
        "37 0.995740 0.969063\n",
        "233 0.221095 0.016625\n",
        "109 0.463934 0.407495\n",
        "143 0.265950 0.040836\n",
        "310 0.508168 0.520243\n",
        "312 0.798048 0.911960\n",
        "249 0.522362 0.554475\n",
        "154 0.160394 0.003385\n",
        "378 0.301780 0.074155\n",
        "383 0.641528 0.776645\n",
        "key:78\n",
        "label:E78\n",
        "length:1972.551918\n",
        "length-wij:7.000000\n",
        "37 0.134143 0.001388\n",
        "233 0.830211 0.926584\n",
        "310 0.174721 0.005183\n",
        "249 0.174957 0.005218\n",
        "154 0.309981 0.083901\n",
        "378 0.221033 0.016602\n",
        "383 0.035529 0.000002\n",
        "key:53\n",
        "label:E53\n",
        "length:381.845271\n",
        "length-wij:9.000000\n",
        "37 0.663269 0.804217\n",
        "233 0.462170 0.402905\n",
        "109 0.218232 0.015592\n",
        "143 0.536459 0.587080\n",
        "310 0.175438 0.005290\n",
        "312 0.709794 0.852184\n",
        "249 0.646332 0.783050\n",
        "154 0.632253 0.763761\n",
        "378 0.100324 0.000325\n"
       ]
      }
     ],
     "prompt_number": 28
    },
    {
     "cell_type": "code",
     "collapsed": false,
     "input": [
      "#GET Wk sum and Wn!!!!! \n",
      "Wo=mda.getwksum.GETWKSUM(INIPATHB)\n",
      "print Wo\n",
      "WO=Wo/(C2*len(h1)*len(INIPATHB.keys()))\n",
      "print WO"
     ],
     "language": "python",
     "metadata": {},
     "outputs": [
      {
       "output_type": "stream",
       "stream": "stdout",
       "text": [
        "13.8181557999\n",
        "0.345453894998\n"
       ]
      }
     ],
     "prompt_number": 29
    },
    {
     "cell_type": "code",
     "collapsed": false,
     "input": [],
     "language": "python",
     "metadata": {},
     "outputs": [],
     "prompt_number": 29
    },
    {
     "cell_type": "code",
     "collapsed": false,
     "input": [],
     "language": "python",
     "metadata": {},
     "outputs": [],
     "prompt_number": 29
    },
    {
     "cell_type": "code",
     "collapsed": false,
     "input": [],
     "language": "python",
     "metadata": {},
     "outputs": []
    }
   ],
   "metadata": {}
  }
 ]
}