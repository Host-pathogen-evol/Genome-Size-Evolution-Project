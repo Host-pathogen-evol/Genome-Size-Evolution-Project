{
 "metadata": {
  "name": "",
  "signature": "sha256:c7eefe2d760918362d496c1a7542b7b7ef3c9fa0fc80b2501bbe6d3e7a7f9014"
 },
 "nbformat": 3,
 "nbformat_minor": 0,
 "worksheets": [
  {
   "cells": [
    {
     "cell_type": "code",
     "collapsed": false,
     "input": [
      "#!/usr/bin/env python\n",
      "#INITIALIZATION\n",
      "import sys\n",
      "sys.path.append('../codes/')\n",
      "from pygsl import rng as rn\n",
      "import math as mth\n",
      "import numpy as np\n",
      "##############################\n",
      "#Constants and Parameters\n",
      "SEED=987654321\n",
      "rk=rn.rng()\n",
      "rk.set(SEED)\n",
      "LH=10 #HOST LENGTH\n",
      "Kh=500 # Host Urn Size\n",
      "Kp=100 # Pathoghen Urn Size\n",
      "C1=0.2\n",
      "C2=0.8\n",
      "C3=0.5\n",
      "sohill=0.5\n",
      "nhill=5\n",
      "hlpt=[sohill,nhill]\n",
      "lnsigma=0.702693602048\n",
      "lnmean=1177.42231142\n",
      "LNPRT=[lnsigma,lnmean]\n",
      "lohill=2.0*lnmean\n",
      "mu1=0.000001\n",
      "mu2=0.000001\n",
      "mu3=0.000001\n",
      "MU=[mu1, mu2, mu3]\n",
      "B=10.0\n",
      "Lwn=LH*C2\n",
      "Prms=[B,Lwn,lnmean]\n",
      "######################################\n",
      "H={} #Hosts\n",
      "#HPk Host-Pathogen Matrices\n",
      "HC={} #HYPER-CUBES\n",
      "Gr={} #GENOMES\n",
      "Nr={} #POPS\n",
      "Tr={} #TRANSITION RATES\n",
      "###############################################################################################\n",
      "import newhost as nh\n",
      "\n",
      "h1=nh.NEWHOST(LH,Kh,rk) #Creates a new host\n",
      "print h1\n",
      "\n",
      "import hypercube as hc #Creates all the  2^L binary vertices.\n",
      "HC=hc.HYPERCUBE(LH)\n",
      "#print len(HC.keys())\n",
      "\n",
      "import prtcube as prtc #Prints the hypercube it works ok\n",
      "#prtc.PRTCUBE(HC)\n",
      "\n",
      "import hpmatrix as hpmt\n",
      "\n",
      "HP1=hpmt.HPMATRIX(Kp,Kh,C1,rk) \n",
      "HP2=hpmt.HPMATRIX(Kp,Kh,C2,rk) \n",
      "HP3=hpmt.HPMATRIX(Kp,Kh,C3,rk) \n",
      "print(\"done\")\n",
      "\n",
      "import lstdst as hdst #Calculates hamming distances\n",
      "\n",
      "d1=hdst.LSTDST(HP1[0],HP1[0])\n",
      "\n",
      "d2=hdst.LSTDST(HP1[0],HP2[0])\n",
      "\n",
      "#print d1, d2 Works fine apparently\n"
     ],
     "language": "python",
     "metadata": {},
     "outputs": [
      {
       "output_type": "stream",
       "stream": "stdout",
       "text": [
        "[37L, 109L, 143L, 154L, 233L, 249L, 310L, 312L, 378L, 383L]\n",
        "done\n"
       ]
      }
     ],
     "prompt_number": 1
    },
    {
     "cell_type": "code",
     "collapsed": false,
     "input": [
      "import modA as mda\n",
      "h2=mda.newhost.NEWHOST(LH,Kh,rk) #Creates a new host\n",
      "print h2\n",
      "\n",
      "#import modA.newhost as mdanuh\n",
      "#h2a=mdanuh.NEWHOST(LH,Kh,rk)\n",
      "#print h2a"
     ],
     "language": "python",
     "metadata": {},
     "outputs": [
      {
       "output_type": "stream",
       "stream": "stdout",
       "text": [
        "[32L, 111L, 181L, 245L, 286L, 291L, 302L, 377L, 384L, 432L]\n"
       ]
      }
     ],
     "prompt_number": 2
    },
    {
     "cell_type": "code",
     "collapsed": false,
     "input": [
      "#Pathogen generation I\n",
      "Neff=5\n",
      "h3=mda.neweffectorlist.NEWEFFECTORLIST(Neff,Kp,rk)\n",
      "print h3"
     ],
     "language": "python",
     "metadata": {},
     "outputs": [
      {
       "output_type": "stream",
       "stream": "stdout",
       "text": [
        "[29L, 45L, 62L, 66L, 78L]\n"
       ]
      }
     ],
     "prompt_number": 3
    },
    {
     "cell_type": "code",
     "collapsed": false,
     "input": [
      "#Pathogen generation II\n",
      "INTPTHU={}\n",
      "for i in h3:\n",
      "    INTPTHU[i]=mda.newpathogenunita.NEWPATHOGENUNITA(i,rk,LNPRT)\n",
      "print INTPTHU"
     ],
     "language": "python",
     "metadata": {},
     "outputs": [
      {
       "output_type": "stream",
       "stream": "stdout",
       "text": [
        "{66L: ['E66', 66L, 2859.4152302575967], 78L: ['E78', 78L, 1196.759564564775], 29L: ['E29', 29L, 1101.983698258892], 62L: ['E62', 62L, 1712.3475585916703], 45L: ['E45', 45L, 829.82503452664696]}\n"
       ]
      }
     ],
     "prompt_number": 4
    },
    {
     "cell_type": "code",
     "collapsed": false,
     "input": [
      "#Pathogen generation III\n",
      "print len(HP1[0]) #Kp\n",
      "print len(HP1) #Kh\n",
      "print h1\n",
      "for i in INTPTHU.keys():\n",
      "    mu=mda.scoresinit.SCORESINIT(HP1[i-1],rk)\n",
      "    wn=mda.calcwij.CALCWIJ(mu,h1,hlpt,INTPTHU[i][2],lohill)\n",
      "    print wn\n",
      "    #print len(wn)\n",
      "    #raw_input()\n",
      "    #print i, mu"
     ],
     "language": "python",
     "metadata": {},
     "outputs": [
      {
       "output_type": "stream",
       "stream": "stdout",
       "text": [
        "500\n",
        "100\n",
        "[37L, 109L, 143L, 154L, 233L, 249L, 310L, 312L, 378L, 383L]\n",
        "109 0.644961540587 0.315723133675\n",
        "143 0.903776942985 0.384217973219\n",
        "312 0.382105049212 0.0835582717692\n",
        "378 0.232011893764 0.00851096302348\n",
        "{312L: 0.083558271769159892, 378L: 0.0085109630234817893, 109L: 0.31572313367461569, 143L: 0.38421797321883805}\n",
        "{}\n",
        "143 0.530834888807 0.471086846095\n",
        "{143L: 0.47108684609484835}\n",
        "109 0.288150031818 0.0390965311198\n",
        "154 0.963258521631 0.630370801506\n",
        "233 0.992837568745 0.633599957408\n",
        "383 0.768552614376 0.585848633181\n",
        "{233L: 0.63359995740802488, 154L: 0.63037080150604663, 109L: 0.039096531119772585, 383L: 0.58584863318141256}\n",
        "37 0.247567215236 0.0257065979824\n",
        "310 0.656364439754 0.707936580363\n",
        "383 0.727901541628 0.771546891647\n",
        "{37L: 0.025706597982380692, 310L: 0.70793658036282248, 383L: 0.77154689164677503}\n"
       ]
      }
     ],
     "prompt_number": 5
    },
    {
     "cell_type": "code",
     "collapsed": false,
     "input": [
      "#Pathogen Generation IV\n",
      "INIPATHB={}\n",
      "INIPATHB=mda.genomeinit.GENOMEINIT(Neff,Kp,rk,LNPRT,HP2,h1,hlpt,lohill)\n",
      "print h1\n",
      "#print INIPATHB\n",
      "mda.prtgenome.PRTGENOME(INIPATHB)"
     ],
     "language": "python",
     "metadata": {},
     "outputs": [
      {
       "output_type": "stream",
       "stream": "stdout",
       "text": [
        "143 0.126938516973 0.000638680881385\n",
        "154 0.486564173596 0.282496929811\n",
        "233 0.0556383212097 1.03427800549e-05\n",
        "249 0.152438553749 0.00159259834884\n",
        "310 0.342964038253 0.0799142987086\n",
        "312 0.606385772582 0.438915865212\n",
        "383 0.572566577466 0.402042236629\n",
        "37 0.967067273334 0.921425812719\n",
        "109 0.321515067015 0.0946397362962\n",
        "143 0.132720994297 0.00125745560741\n",
        "154 0.540794901317 0.570226197787\n",
        "249 0.0190999985207 7.77200544618e-08\n",
        "310 0.560826266417 0.611203021159\n",
        "37 0.99573983578 0.579118758106\n",
        "109 0.463934005937 0.243521985453\n",
        "143 0.265950447181 0.0244040433063\n",
        "154 0.160393992439 0.00202317352795\n",
        "233 0.221095217625 0.00993530634415\n",
        "249 0.522362373071 0.331357803697\n",
        "310 0.508167754393 0.31090089137\n",
        "312 0.798048110912 0.544993348481\n",
        "378 0.301780006848 0.0443155375058\n",
        "383 0.641527634347 0.46412823296\n",
        "37 0.134143133415 0.00137935212133\n",
        "154 0.309980602702 0.0833779694484\n",
        "233 0.830210923217 0.920811665245\n",
        "249 0.174957256531 0.005185894476\n",
        "310 0.17472108989 0.00515116879246\n",
        "378 0.221033391077 0.0164988908045\n",
        "383 0.0355290882289 1.80034467321e-06\n",
        "37 0.663269046228 0.223035555594\n",
        "109 0.21823166986 0.00432428774807\n",
        "143 0.536458658753 0.162816356161\n",
        "154 0.632253400981 0.211815751738\n",
        "233 0.462170068175 0.111738629603\n",
        "249 0.646332269302 0.217165150347\n",
        "310 0.175437973579 0.00146711855751\n",
        "312 0.709793793969 0.236338250733\n",
        "378 0.100324054249 9.01643623177e-05\n",
        "[37L, 109L, 143L, 154L, 233L, 249L, 310L, 312L, 378L, 383L]\n",
        "key:98\n",
        "label:E98\n",
        "length:1897.933968\n",
        "length-wij:7.000000\n",
        "233 0.055638 0.000010\n",
        "143 0.126939 0.000639\n",
        "310 0.342964 0.079914\n",
        "312 0.606386 0.438916\n",
        "249 0.152439 0.001593\n",
        "154 0.486564 0.282497\n",
        "383 0.572567 0.402042\n",
        "key:67\n",
        "label:E67\n",
        "length:508.377687\n",
        "length-wij:6.000000\n",
        "37 0.967067 0.921426\n",
        "109 0.321515 0.094640\n",
        "143 0.132721 0.001257\n",
        "310 0.560826 0.611203\n",
        "249 0.019100 0.000000\n",
        "154 0.540795 0.570226\n",
        "key:13\n",
        "label:E13\n",
        "length:1932.323835\n",
        "length-wij:10.000000\n",
        "37 0.995740 0.579119\n",
        "233 0.221095 0.009935\n",
        "109 0.463934 0.243522\n",
        "143 0.265950 0.024404\n",
        "310 0.508168 0.310901\n",
        "312 0.798048 0.544993\n",
        "249 0.522362 0.331358\n",
        "154 0.160394 0.002023\n",
        "378 0.301780 0.044316\n",
        "383 0.641528 0.464128\n",
        "key:78\n",
        "label:E78\n",
        "length:186.441035\n",
        "length-wij:7.000000\n",
        "37 0.134143 0.001379\n",
        "233 0.830211 0.920812\n",
        "310 0.174721 0.005151\n",
        "249 0.174957 0.005186\n",
        "154 0.309981 0.083378\n",
        "378 0.221033 0.016499\n",
        "383 0.035529 0.000002\n",
        "key:53\n",
        "label:E53\n",
        "length:3801.291058\n",
        "length-wij:9.000000\n",
        "37 0.663269 0.223036\n",
        "233 0.462170 0.111739\n",
        "109 0.218232 0.004324\n",
        "143 0.536459 0.162816\n",
        "310 0.175438 0.001467\n",
        "312 0.709794 0.236338\n",
        "249 0.646332 0.217165\n",
        "154 0.632253 0.211816\n",
        "378 0.100324 0.000090\n"
       ]
      }
     ],
     "prompt_number": 6
    },
    {
     "cell_type": "code",
     "collapsed": false,
     "input": [
      "#GET Wk sum and Wn!!!!! \n",
      "Wo=mda.getwksum.GETWKSUM(INIPATHB,C2*len(h1))\n",
      "print Wo"
     ],
     "language": "python",
     "metadata": {},
     "outputs": [
      {
       "output_type": "stream",
       "stream": "stdout",
       "text": [
        "0.204006508512\n"
       ]
      }
     ],
     "prompt_number": 7
    },
    {
     "cell_type": "code",
     "collapsed": false,
     "input": [
      "#GET LENGTH\n",
      "Lo=mda.getlength.GETLENGTH(INIPATHB)\n",
      "print Lo"
     ],
     "language": "python",
     "metadata": {},
     "outputs": [
      {
       "output_type": "stream",
       "stream": "stdout",
       "text": [
        "8326.36758191\n"
       ]
      }
     ],
     "prompt_number": 8
    },
    {
     "cell_type": "code",
     "collapsed": false,
     "input": [
      "#RATES TRATES(RK,Gn,Np,Prms,Lg): \n",
      "#RK=mutation rate array\n",
      "#Gn=Genome!\n",
      "#Np=Population\n",
      "#wij prefactor\n",
      "#Prms=more paramters [LhCn,Lav]\n",
      "#Lg=genome length\n",
      "NBo=10000.0\n",
      "trn=mda.trates.TRATES(MU,INIPATHB,NBo,Prms,Lo)\n",
      "print trn"
     ],
     "language": "python",
     "metadata": {},
     "outputs": [
      {
       "output_type": "stream",
       "stream": "stdout",
       "text": [
        "{98L: [0.0030498868873676081, 0.01, 0.00040404317567547827], 67L: [0.00065028267004978841, 0.01, 3.1274357662115622e-05], 13L: [0.0022631421198710719, 0.01, 7.6181527438183265e-05], 78L: [0.0003110596365306887, 0.01, 4.9285052488411316e-05], 53L: [0.006157727687679625, 0.01, 0.00084735624661646353]}\n"
       ]
      }
     ],
     "prompt_number": 9
    },
    {
     "cell_type": "code",
     "collapsed": false,
     "input": [
      "print INIPATHB.keys()\n",
      "print h1\n",
      "print Wo\n",
      "#TRANSFORMATIONS\n",
      "#(ng,nt,Gk, H,hll,hllb ):(gene number (KEYS), transformation number,genome,hillAvector, HILLBLO)\n",
      "newga=mda.genetrans.GENETRANS(98,0,INIPATHB,h1,hlpt,lohill,rk)\n",
      "Wa=mda.getwksum.GETWKSUM(INIPATHB,C2*len(h1))\n",
      "print Wa\n",
      "mda.prtgenome.PRTGENOME(newga)\n",
      "\n",
      "newgb=mda.genetrans.GENETRANS(98,1,INIPATHB,h1,hlpt,lohill,rk)\n",
      "Wb=mda.getwksum.GETWKSUM(INIPATHB,C2*len(h1))\n",
      "print Wb\n",
      "mda.prtgenome.PRTGENOME(newgb)\n",
      "\n",
      "newgc=mda.genetrans.GENETRANS(98,2,INIPATHB,h1,hlpt,lohill,rk)\n",
      "Wc=mda.getwksum.GETWKSUM(INIPATHB,C2*len(h1))\n",
      "print Wc\n",
      "mda.prtgenome.PRTGENOME(newgc)\n",
      "\n",
      "newgd=mda.genetrans.GENETRANS(78,1,INIPATHB,h1,hlpt,lohill,rk)\n",
      "Wd=mda.getwksum.GETWKSUM(INIPATHB,C2*len(h1))\n",
      "print Wd\n",
      "mda.prtgenome.PRTGENOME(newgd)"
     ],
     "language": "python",
     "metadata": {},
     "outputs": [
      {
       "output_type": "stream",
       "stream": "stdout",
       "text": [
        "[98L, 67L, 13L, 78L, 53L]\n",
        "[37L, 109L, 143L, 154L, 233L, 249L, 310L, 312L, 378L, 383L]\n",
        "98\n",
        "0\n",
        "143 0.124865138406 0.000588147512495\n",
        "154 0.486467547696 0.28229985021\n",
        "233 0.0567169463862 1.13830311617e-05\n",
        "249 0.152845886682 0.00161366315147\n",
        "310 0.341476970648 0.0784057930869\n",
        "312 0.606035232704 0.438491986954\n",
        "383 0.571247027309 0.400410140019\n"
       ]
      }
     ],
     "prompt_number": 13
    },
    {
     "cell_type": "code",
     "collapsed": false,
     "input": [
      "#JUMP"
     ],
     "language": "python",
     "metadata": {},
     "outputs": [],
     "prompt_number": 11
    },
    {
     "cell_type": "code",
     "collapsed": false,
     "input": [
      "#MONTECARLO111"
     ],
     "language": "python",
     "metadata": {},
     "outputs": [],
     "prompt_number": 12
    },
    {
     "cell_type": "code",
     "collapsed": false,
     "input": [],
     "language": "python",
     "metadata": {},
     "outputs": [],
     "prompt_number": 12
    },
    {
     "cell_type": "code",
     "collapsed": false,
     "input": [],
     "language": "python",
     "metadata": {},
     "outputs": []
    }
   ],
   "metadata": {}
  }
 ]
}