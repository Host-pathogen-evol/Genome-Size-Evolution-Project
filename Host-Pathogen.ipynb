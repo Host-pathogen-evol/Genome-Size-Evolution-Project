{
 "metadata": {
  "name": ""
 },
 "nbformat": 3,
 "nbformat_minor": 0,
 "worksheets": [
  {
   "cells": [
    {
     "cell_type": "heading",
     "level": 1,
     "metadata": {},
     "source": [
      "Genome size evolution P. Infestans Notes "
     ]
    },
    {
     "cell_type": "markdown",
     "metadata": {},
     "source": [
      "# Introduction.\n",
      "\n",
      "## The origins of Genome Complexity. (Lynch and Conery, Science 302 (2003)).\n",
      "\n",
      "There are relevant features that define genomes:\n",
      "\n",
      "* Number of genes, number of nucleotides.\n",
      "* The genome lenght is in the most basic model the number of bases, however it can be related to the number of genes, the size of introns, and other **Non-coding** DNA.\n",
      "\n",
      "**Conundrum** : Are the genome's increases of length and complexity the consequences of some evolutionary advantage?\n",
      "\n",
      "_Any general theory of genomic architecture evolution must account for the peculiar molecular attributes of various genetic elements, in addition to being compatible with the principles of population genetics_\n",
      "\n",
      "Under my view, the second assertion is unnecessary, population genetics is only a way of counting and it depends on a set of  assumptions such as sexual, or asexual organisms, etc. In orther words given a model of genome evolution, one can always postulate a population genetics model which will make this individual genomes to interact and to change size and links if required.\n",
      "\n",
      "This paper addresses:\n",
      "\n",
      "1. Transitions from prokaryotes to unicellular eukaryotes to multicellullar eukaryotes are associated with population bottlenecks or, and I quote _Orders of magnitude reductions in population size_.\n",
      "1. The bottlenecks magnify the effects of  random genetic drift, and provide a permisive \"environment\" (I would say _condition_) for the _proliferation of varios genomic features that otherwise would be eliminated by puryfying selection_.\n",
      "\n",
      "The main conclusions of this paper are  obtained from the data below and the quantity: $N_{e}u$, where  $N_{e}$ is the effective population of a species and $u$ the mutation rate per nucleotide.\n",
      "\n",
      "\n",
      "\n",
      "\n"
     ]
    },
    {
     "cell_type": "markdown",
     "metadata": {},
     "source": [
      "###\u00a0Some data taken from the supporting information."
     ]
    },
    {
     "cell_type": "code",
     "collapsed": false,
     "input": [
      "Gn=[1997, 4500, 6213, 5800, 9260, 4824, 5268, 8600, 9000,10000,13000,10000,21200,25498,13676,16000,17500,\n",
      "    13683,38000,60256,27350,30000,30000, 50000]\n",
      "\n",
      "Gl=[2.90,10.40,12.05,12.30,13.50,13.80,22.85,33.60, 34.00,\n",
      "39.20,42.90,87.00,100.26,125.00,137.00,156.00,270.00,278.00,365.00,466.00,800.00,2500.00,2900.00,3000.00]\n",
      "\n",
      "mingl=min(Gl)\n",
      "maxgl=max(Gl)\n",
      "mingn=min(Gn)\n",
      "maxgn=max(Gn)\n",
      "xgl=[]\n",
      "xgn=[]\n",
      "i=int(floor(mingl))-1\n",
      "while (i <(int(ceil(maxgl))+1)):\n",
      "    xgl.append(i)\n",
      "    i=i+500\n",
      "    \n",
      "i=int(floor(mingn))-1      \n",
      "while(i<(1+int(ceil(maxgn)))):\n",
      "    xgn.append(i)\n",
      "    i=i+1000\n",
      "\n",
      "print xgl\n",
      "print xgn\n",
      "h1=histogram(Gl,xgl)    \n",
      "h2=histogram(Gn,xgn)"
     ],
     "language": "python",
     "metadata": {},
     "outputs": [
      {
       "output_type": "stream",
       "stream": "stdout",
       "text": [
        "[1, 501, 1001, 1501, 2001, 2501]\n",
        "[1996, 2996, 3996, 4996, 5996, 6996, 7996, 8996, 9996, 10996, 11996, 12996, 13996, 14996, 15996, 16996, 17996, 18996, 19996, 20996, 21996, 22996, 23996, 24996, 25996, 26996, 27996, 28996, 29996, 30996, 31996, 32996, 33996, 34996, 35996, 36996, 37996, 38996, 39996, 40996, 41996, 42996, 43996, 44996, 45996, 46996, 47996, 48996, 49996, 50996, 51996, 52996, 53996, 54996, 55996, 56996, 57996, 58996, 59996]\n"
       ]
      }
     ],
     "prompt_number": 51
    },
    {
     "cell_type": "code",
     "collapsed": false,
     "input": [
      "y1=h1[0]\n",
      "x1=numpy.delete(h1[1],[len(h1[1])-1])\n",
      "print len(y1)    \n",
      "print len(x1)\n",
      "y2=h2[0]\n",
      "x2=numpy.delete(h2[1],[len(h2[1])-1])\n",
      "fig, axes = plt.subplots(1, 2, figsize=(12, 4))  \n",
      "axes[0].plot(x1, y1)\n",
      "axes[0].set_xlabel(\"frequency\")\n",
      "axes[0].set_ylabel(\"Number of genes\")\n",
      "\n",
      "axes[1].plot(x2, y2)\n",
      "axes[1].set_xlabel(\"frequency\")\n",
      "axes[1].set_ylabel(\"genome length)\")"
     ],
     "language": "python",
     "metadata": {},
     "outputs": [
      {
       "output_type": "stream",
       "stream": "stdout",
       "text": [
        "5\n",
        "5\n"
       ]
      },
      {
       "metadata": {},
       "output_type": "pyout",
       "prompt_number": 52,
       "text": [
        "<matplotlib.text.Text at 0x10ca65550>"
       ]
      },
      {
       "metadata": {},
       "output_type": "display_data",
       "png": "[encoded data removed]",
       "text": [
        "<matplotlib.figure.Figure at 0x10c0f5550>"
       ]
      }
     ],
     "prompt_number": 52
    },
    {
     "cell_type": "code",
     "collapsed": false,
     "input": [
      "fig, axes = plt.subplots(1, 2, figsize=(12, 4))\n",
      "\n",
      "axes[0].plot(Gl, Gn,'g*-')\n",
      "axes[0].set_xlabel(\"genome length\")\n",
      "axes[0].set_ylabel(\"number of genes\")\n",
      "\n",
      "axes[1].plot(Gl, Gn,'g*-')\n",
      "axes[1].set_yscale(\"log\")\n",
      "axes[1].set_xscale(\"log\")\n",
      "axes[1].set_xlabel(\"log(g. length)\")\n",
      "axes[1].set_ylabel(\"log(N genes)\")\n",
      "\n"
     ],
     "language": "python",
     "metadata": {},
     "outputs": [
      {
       "metadata": {},
       "output_type": "pyout",
       "prompt_number": 53,
       "text": [
        "<matplotlib.text.Text at 0x10cf8d210>"
       ]
      },
      {
       "metadata": {},
       "output_type": "display_data",
       "png": "[encoded data removed]",
       "text": [
        "<matplotlib.figure.Figure at 0x10b7bd1d0>"
       ]
      }
     ],
     "prompt_number": 53
    },
    {
     "cell_type": "markdown",
     "metadata": {},
     "source": [
      "##\u00a0Modeling Host-Parasite Coevolution: A Nested Approach Based on Mechanistic Models.(M. A. Gilchrist, Akira Sasaki, J. Theor Biol 2002)\n"
     ]
    },
    {
     "cell_type": "markdown",
     "metadata": {},
     "source": [
      "#\u00a0Genetic Architecture Models.\n",
      "\n",
      "Let $H_N(t)$ and $P_N(t)$ represent the genomes of a host ($H$) and a parasite ($P$) at some given evolutionary stage N. \n"
     ]
    },
    {
     "cell_type": "markdown",
     "metadata": {},
     "source": [
      "# Facts and  that should be beared in mind all the time:\n",
      "## Nucleotides.\n",
      "Molecules which are the building blocks of the nucleic acids (which are chains of these molecules). \n",
      "Nucleotides posses three main components:\n",
      "\n",
      "* A sugar: 2'-deoxyribose (DNA) or ribose (RNA)\n",
      "* A Nitrogen ring or *Base*: {A,G,T,C} for DNA, {A,G,U,C} for RNA.\n",
      "* A Phosphate group.\n",
      "\n",
      "Single ringed bases {C,T,U} are called pyramidines. Double ringed molecules {A,G} are called purines.\n",
      "Bases can bond forming base pairs, allowed base-pairs are: C-G (C-G), A-T, (T-A), A-U (U-A), G-U (U-G).\n",
      "\n",
      "\n",
      "## Nucleic Acids.\n",
      "\n",
      "Polymer chains of nucleotide monomers are called Nucleic Acids. The chains are formed by joints of  Nucleotide triphosphates, which are bonds between  the 5'phosphate of one nucleotide and the 3' hydroxyl of the other (C-O-P phosphodiester bonds). the free 5' and 3' ends determine the polarity. The nucleotide sequences are usually read in the  $$5'\\rightarrow 3'$$ direction.\n",
      "\n",
      "The D on DNA and the R on RNA refer to the sugar in the nucleotides.\n",
      "\n",
      "## Aminoacids and Genetic Code.\n",
      "A four letter alphabet {U,C,A,G} can generate $4^L$ different sequences of lenght $L$. For codons $L=3$ which gives 64 different codons,  which are arranged in 20 amoniacids found in proteins, plus some stop codons.\n",
      "### Aminoacids.\n",
      "1. Phe:= Phenylalanine\n",
      "1. Leu:= Leucine\n",
      "1. Ile:= Isoleucine\n",
      "1. Met:= Methionine\n",
      "1. Val:= Valine\n",
      "1. Ser:= Serine\n",
      "1. Pro:= Proline\n",
      "1. Thr:= Threonine\n",
      "1. Ala:= Alanine\n",
      "1. Tyr:= Tyrosine\n",
      "1. Stp:= Stop Codon\n",
      "1. His:= Histidine\n",
      "1. Gln:= Glutamine\n",
      "1. Asn:= Asparagine\n",
      "1. Lys:= Lysine\n",
      "1. Asp:= Aspartic Acid\n",
      "1. Glu:= Glutamic Acid\n",
      "1. Cys:= Cysteine\n",
      "1. Trp:= Tryptophan\n",
      "1. Arg:= Arginine\n",
      "1. Gly:= Glycine\n",
      "\n",
      "###\u00a0Genetic Code.\n",
      "\n",
      "| |   U   |   C   |   A   |   G   | |     \n",
      "|-|-------|-------|-------|-------|-|\n",
      "|U|Phe UUU|Ser UCU|Tyr UAU|Cys UGU|U|\n",
      "| |Phe UUC|Ser UCC|Tyr UAC|Cys UGC|C|\n",
      "| |Leu UUA|Ser UCA|Stp UAA|Stp UGA|A|\n",
      "| |Leu UUG|Ser UCG|Stp UAG|Trp UGG|G|\n",
      "|C|Leu CUU|Pro CCU|His CAU|Arg CGU|U|\n",
      "| |Leu CUC|Pro CCC|His CAC|Arg CGC|C|\n",
      "| |Leu CUA|Pro CCA|Gln CAA|Arg CGA|A|\n",
      "| |Leu CUG|Pro CCG|Gln CAG|Arg CGG|G|\n",
      "|A|Ile AUU|Thr ACU|Asn AAU|Ser AGU|U|\n",
      "| |Ile AUC|Thr ACC|Asn AAC|Ser AGC|C|\n",
      "| |Ile AUA|Thr ACA|Lys AAA|Arg AGA|A|\n",
      "| |Met AUG|Thr ACG|Lys AAG|Arg AGG|G|\n",
      "|G|Val GUU|Ala GCU|Asp GAU|Gly GGU|U|\n",
      "| |Val GUC|Ala GCC|Asp GAC|Gly GGC|C|\n",
      "| |Val GUA|Ala GCA|Glu GAA|Gly GGA|A|\n",
      "| |Val GUG|Ala GCG|Glu GAG|Gly GGG|G|\n",
      "\n",
      "There is some degree of regularity in the degeneracy of the Aminoacids: \n",
      "\n",
      "* Trp and Met only have one codon assigned to them.\n",
      "* There are three stop codons.\n",
      "* Ser, Pro, Thr, Ala, Val, Gly, Leu, Arg are invariant to mutations in the third nucleotide.\n",
      "* Except for $UAA \\rightarrow UGA$ (Stop codons) all second position mutations change the Aminoacid.\n",
      "* Mutations that do not change the aminoacid are called **SYNONYMOUS** mutations, all the other that do change the aminoacid are **NON-SYNONYMOUS**.\n",
      "\n",
      "## The useless neutral network of Aminoacids:"
     ]
    },
    {
     "cell_type": "code",
     "collapsed": false,
     "input": [
      "import networkx as nx\n",
      "mu=1\n",
      "aminodes={}\n",
      "abc={1: 'A', 2: 'G', 3: 'T', 4:'C'}    \n",
      "mu=pow(4,3)\n",
      "cnt=1\n",
      "for i in range (1,5):\n",
      "    for j in range (1,5):\n",
      "        for k in range (1,5):\n",
      "            amn=abc[i]+abc[j]+abc[k]\n",
      "            aminodes[cnt]=amn\n",
      "            cnt=cnt+1\n",
      "            #print amn\n",
      "#print aminodes"
     ],
     "language": "python",
     "metadata": {},
     "outputs": [
      {
       "output_type": "stream",
       "stream": "stdout",
       "text": [
        "{1: 'AAA', 2: 'AAG', 3: 'AAT', 4: 'AAC', 5: 'AGA', 6: 'AGG', 7: 'AGT', 8: 'AGC', 9: 'ATA', 10: 'ATG', 11: 'ATT', 12: 'ATC', 13: 'ACA', 14: 'ACG', 15: 'ACT', 16: 'ACC', 17: 'GAA', 18: 'GAG', 19: 'GAT', 20: 'GAC', 21: 'GGA', 22: 'GGG', 23: 'GGT', 24: 'GGC', 25: 'GTA', 26: 'GTG', 27: 'GTT', 28: 'GTC', 29: 'GCA', 30: 'GCG', 31: 'GCT', 32: 'GCC', 33: 'TAA', 34: 'TAG', 35: 'TAT', 36: 'TAC', 37: 'TGA', 38: 'TGG', 39: 'TGT', 40: 'TGC', 41: 'TTA', 42: 'TTG', 43: 'TTT', 44: 'TTC', 45: 'TCA', 46: 'TCG', 47: 'TCT', 48: 'TCC', 49: 'CAA', 50: 'CAG', 51: 'CAT', 52: 'CAC', 53: 'CGA', 54: 'CGG', 55: 'CGT', 56: 'CGC', 57: 'CTA', 58: 'CTG', 59: 'CTT', 60: 'CTC', 61: 'CCA', 62: 'CCG', 63: 'CCT', 64: 'CCC'}\n"
       ]
      }
     ],
     "prompt_number": 88
    },
    {
     "cell_type": "code",
     "collapsed": false,
     "input": [
      "#Aminoacid (Color) Association.\n",
      "ACC={'Phe': ['UUU', 'UUC'],\n",
      "    'Leu': ['UUA','UUG','CUU','CUC','CUA','CUG'],\n",
      "    'Ile': ['AUU', 'AUC', 'AUA'],\n",
      "    'Met': ['AUG'],\n",
      "    'Val': ['GUU', 'GUC','GUA','GUG'], \n",
      "    'Ser': ['UCU','UCC','UCA','UCG','AGU','AGC'],\n",
      "    'Pro': ['CCU','CCC','CCA','CCG'], \n",
      "    'Thr': ['ACU','ACC','ACA','ACG'], \n",
      "    'Ala': ['GCU','GCC','GCA','GCG'],\n",
      "    'Tyr': ['UAU','UAC'],\n",
      "    'Stop':['UAA','UAG','UGA'],\n",
      "    'Cys': ['UGU','UGC'],\n",
      "    'Trp': ['UGG'],\n",
      "    'His': ['CAU','CAC'], \n",
      "    'Gln': ['CAA','CAG'],\n",
      "    'Arg': ['CGU','CGC','CGA','CGG','AGA','AGG'], \n",
      "    'Asn': ['AAU','AAC'], \n",
      "    'Lys': ['AAA','AAG'],\n",
      "    'Asp': ['GAU','GAC'],\n",
      "    'Glu': ['GAA','GAG'], \n",
      "    'Gly': ['GGU','GGC','GGA','GGG']}\n",
      "\n",
      "print len(ACC)\n",
      "\n"
     ],
     "language": "python",
     "metadata": {},
     "outputs": [
      {
       "output_type": "stream",
       "stream": "stdout",
       "text": [
        "21\n",
        "['UUA', 'UUG', 'CUU', 'CUC', 'CUA', 'CUG']\n"
       ]
      }
     ],
     "prompt_number": 1
    },
    {
     "cell_type": "markdown",
     "metadata": {},
     "source": [
      "\n",
      "## Genetic Drift.\n",
      "\n",
      "Here two classical models are reviewed which are *Neutral* and which illustrate the effect of *Genetic Drift*. Neutrality meaning the absence of any driving force on inheritance other than just reproduction and re-shuffling of the genetic material.\n",
      "\n",
      "###\u00a0Fisher-Wright Model.\n",
      "This considers a single gene and two alleles $A$ and $B$ and a population $N$.\n",
      "At every time $t$, there are $n$ alleles $A$ and $N-n$ alleles of type $B$.\n",
      "Sampling a new generation with picking probabilities $p_{A}=\\frac{n}{N}$  and $p_{B}=\\frac{N-n}{N}$ we obtain the transition rates \n",
      "from a state with $n$ copies of $A$ into one with n', which are given by:\n",
      "\n",
      "$$p_{nn'}=\\left(\\begin{array}{c}\n",
      "N\\\\\n",
      "n\n",
      "\\end{array}\\right)p_{A}^{n}p_{B}^{N-n}$$\n",
      "\n",
      "The goal is to know $P_{n}(t)$ i.e. the probablity of having $(n,N-n)$, $A$ and $B$ alleles present at a given time $t$ given  the initial value $n_{0}$.\n",
      "\n",
      "The Markov chain approach employs the column vector ${\\bf P}(t)$, whose entries are the $P_{i}(t)$,  $i=1,...,N$, to obtain the evolution equation: ${\\bf P}(t+1)=\\mathcal{M}{\\bf P}(t)=\\mathcal{M}^{t}{\\bf P}(0)$.\n",
      "\n",
      "With ${\\bf M}$ given by: \n",
      "\n",
      "$${\\bf M}=\\left(\\begin{array}{ccc}\n",
      "p_{11} & p_{12} & \\cdots\\\\\n",
      "p_{21} & p_{22} & \\cdots\\\\\n",
      "\\vdots & \\vdots & \\ddots\n",
      "\\end{array}\\right)$$\n",
      " \n",
      "Equivalently: $P_{n}(t+1)=\\sum_{k}\\mathcal{M}_{nk}P_{k}(t)$. We are interested in  the long term behaviour, which is dominated by the largest eigen-pair of \\mathcal{M}. For this model the eigenvalues can be calculated explicitly, and are described by:  $\\lambda_{k}=\\left(\\begin{array}{c}\n",
      "N\\\\\n",
      "k\n",
      "\\end{array}\\right)\\frac{k!}{N^{k}}$. It is intuitively clear to establish that if there exist a stationary state ${\\bf P}^{*}$, It has to be of the form: $P_{1}^{*}=1-\\Pi$  and $P_{N}^{*}=\\Pi$ and zero otherwise.\n",
      "In other words, Only  $A$  or $B$ is fixed, each case with probabilities $\\Pi$ or $1-\\Pi$. If this is true, then, also \n",
      "${\\bf P}^{*}=\\mathcal{M}{\\bf P^{*}}$ should be case.\n",
      " \n",
      " It can be verified that the above holds. Moreover: $\\left\\langle n(t+1)\\right\\rangle =\\sum_{n}nP_{n}(t+1)=\\left\\langle n(t)\\right\\rangle =n_{0}$\n",
      "  , which allows to obtain the value for $\\Pi$, i.e.  $\\left\\langle n^{*}\\right\\rangle =n_{0}=N^{*}\\Pi+0(1-\\Pi)$ which implies $\\Pi=\\frac{n_{0}}{N}$.\n",
      "\n",
      "### Moran Model.\n"
     ]
    },
    {
     "cell_type": "markdown",
     "metadata": {},
     "source": [
      "#\u00a0Fitness (Maynard-Smith-Evolutionary Genetics).\n",
      "We want a measure of the survival and reproduction of the different genotypes. \n",
      "Absolute fitness $F_A$ (of a given zygote A) is: \n",
      "\n",
      " $F_A$ =*(Probability that an A zygote will survive to breed)x(Expected number of offspring, given that it does survive)*.\n",
      " \n",
      "* Fitness is a property, not of an individual, but of a class of individuals.\n",
      "* Fitness is specific to an environment.\n",
      "* Fitness is measured over one generation (It requires a definition of generation!).\n",
      "* Sometimes fitness can be associated to genes (Marginal fitnesses).\n",
      "* Populations do not have fitnesess."
     ]
    },
    {
     "cell_type": "markdown",
     "metadata": {},
     "source": [
      "#\u00a0Glossary.\n",
      "\n",
      "\n",
      "* Homo-Heterzygousity:\n",
      "* Effectors:\n",
      "* Prokaryote:\n",
      "* Exons:\n",
      "* Introns:\n",
      "* Orthologs:\n",
      "* Clade:\n",
      "* Alleles:\n",
      "* Diploid/Haploid:\n",
      "* Gene Compliment:\n",
      "* Complex Genome:\n",
      "* Gene Flow:\n",
      "* Chromosomes:\n"
     ]
    },
    {
     "cell_type": "markdown",
     "metadata": {},
     "source": [
      "# References\n",
      "\n",
      "1. Genome Evolution Following Host Jumps in the Irish Potato Famine.\n",
      "1. Genome Evolution in filamentous plant pathogens: why bigger can be better.\n",
      "1. Stochastic models of evolution in genetics, ecology and linguistics.\n"
     ]
    },
    {
     "cell_type": "code",
     "collapsed": false,
     "input": [],
     "language": "python",
     "metadata": {},
     "outputs": []
    }
   ],
   "metadata": {}
  }
 ]
}