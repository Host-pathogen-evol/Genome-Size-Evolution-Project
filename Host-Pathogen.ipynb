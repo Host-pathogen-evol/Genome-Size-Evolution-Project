{
 "metadata": {
  "name": ""
 },
 "nbformat": 3,
 "nbformat_minor": 0,
 "worksheets": [
  {
   "cells": [
    {
     "cell_type": "heading",
     "level": 1,
     "metadata": {},
     "source": [
      "Genome size evolution P. Infestans Notes "
     ]
    },
    {
     "cell_type": "markdown",
     "metadata": {},
     "source": [
      "# Introduction:\n"
     ]
    },
    {
     "cell_type": "markdown",
     "metadata": {},
     "source": [
      "HOLA\n",
      "<script>            \n",
      "MathJax.Hub.Config({\n",
      "TeX:{extensions: [\\\"AMSmath.js\\\"]},\n",
      "     tex2jax:{inlineMath: [ ['$','$'], [\\\"\\\\\\\\(\\\",\\\"\\\\\\\\)\\\"] ],\n",
      "     displayMath: [ ['$$','$$'], [\\\"\\\\\\\\[\\\",\\\"\\\\\\\\]\\\"] ]},\n",
      "     displayAlign: 'center', // Change this to 'center' to center equations.\n",
      "      \\\"HTML-CSS\\\":{styles: {'.MathJax_Display': {\\\"margin\\\": 4}}}   \n",
      "});       \n",
      "</script>       \n",
      "ADIOS"
     ]
    },
    {
     "cell_type": "markdown",
     "metadata": {},
     "source": [
      "# Facts and  that should be beared in mind all the time:\n",
      "## Nucleotides.\n",
      "## Nucleic Acids.\n",
      "## Aminoacids and Genetic Code.\n",
      "\n",
      "###\u00a0Genetic Code.\n",
      "\n",
      "\n",
      "## Genes and Genomes.\n",
      "## Basic Models and Definitions abused by Biologists:\n",
      "\n",
      "* Haploid: Organisms which carry only one instance of each gene.\n",
      "* Diploid: Organisms which carry two copies of each gene. \n",
      "* Gene-Complement:\n",
      "\n",
      "\n",
      "###\u00a0Fisher-Wright Model.\n",
      "This considers a single gene and two alleles $A$ and $B$ and a population $N$.\n",
      "At every time $t$, there are $n$ alleles $A$ and $N-n$ alleles of type $B$.\n",
      "Sampling a new generation with picking probabilities $p_{A}=\\frac{n}{N}$  and $p_{B}=\\frac{N-n}{N}$ we obtain the transition rates \n",
      "from a state with $n$ copies of $A$ into one with n', which are given by:\n",
      "\n",
      "$$p_{nn'}=\\left(\\begin{array}{c}\n",
      "N\\\\\n",
      "n\n",
      "\\end{array}\\right)p_{A}^{n}p_{B}^{N-n}$$\n",
      "\n",
      "The goal is to know $P_{n}(t)$ i.e. the probablity of having $(n,N-n)$, $A$ and $B$ alleles present at a given time $t$ given  the initial value $n_{0}$.\n",
      "\n",
      "The Markov chain approach employs the column vector ${\\bf P}(t)$, whose entries are the $P_{i}(t)$,  $i=1,...,N$, to obtain the evolution equation: ${\\bf P}(t+1)=\\mathcal{M}{\\bf P}(t)=\\mathcal{M}^{t}{\\bf P}(0)$.\n",
      "\n",
      "With ${\\bf M}$ given by: \n",
      "\n",
      "$${\\bf M}=\\left(\\begin{array}{ccc}\n",
      "p_{11} & p_{12} & \\cdots\\\\\n",
      "p_{21} & p_{22} & \\cdots\\\\\n",
      "\\vdots & \\vdots & \\ddots\n",
      "\\end{array}\\right)$$\n",
      " \n",
      "Equivalently: $P_{n}(t+1)=\\sum_{k}\\mathcal{M}_{nk}P_{k}(t)$. We are interested in  the long term behaviour, which is dominated by the largest eigen-pair of \\mathcal{M}. For this model the eigenvalues can be calculated explicitly, and are described by:  $\\lambda_{k}=\\left(\\begin{array}{c}\n",
      "N\\\\\n",
      "k\n",
      "\\end{array}\\right)\\frac{k!}{N^{k}}$. It is intuitively clear to establish that if there exist a stationary state ${\\bf P}^{*}$, It has to be of the form: $P_{1}^{*}=1-\\Pi$  and $P_{N}^{*}=\\Pi$ and zero otherwise.\n",
      "In other words, Only  $A$  or $B$ is fixed, each case with probabilities $\\Pi$ or $1-\\Pi$. If this is true, then, also \n",
      "${\\bf P}^{*}=\\mathcal{M}{\\bf P^{*}}$ should be case.\n",
      " \n",
      " It can be verified that the above holds. Moreover: $\\left\\langle n(t+1)\\right\\rangle =\\sum_{n}nP_{n}(t+1)=\\left\\langle n(t)\\right\\rangle =n_{0}$\n",
      "  , which allows to obtain the value for $\\Pi$, i.e.  $\\left\\langle n^{*}\\right\\rangle =n_{0}=N^{*}\\Pi+0(1-\\Pi)$ which implies $\\Pi=\\frac{n_{0}}{N}$.\n",
      "\n"
     ]
    },
    {
     "cell_type": "markdown",
     "metadata": {},
     "source": [
      "# References\n",
      "\n",
      "1. Genome Evolution Following Host Jumps in the Irish Potato Famine.\n",
      "1. Genome Evolution in filamentous plant pathogens: why bigger can be better.\n",
      "1. Stochastic models of evolution in genetics, ecology and linguistics.\n"
     ]
    },
    {
     "cell_type": "raw",
     "metadata": {},
     "source": []
    },
    {
     "cell_type": "markdown",
     "metadata": {},
     "source": [
      "\n",
      "Hola Rata:\n",
      "$$ a = 1 $$\n",
      "$$ b = 2 \\\\ c = 3 $$\n",
      "Hola"
     ]
    },
    {
     "cell_type": "code",
     "collapsed": false,
     "input": [],
     "language": "python",
     "metadata": {},
     "outputs": []
    }
   ],
   "metadata": {}
  }
 ]
}